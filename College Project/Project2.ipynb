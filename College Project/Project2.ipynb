{
 "cells": [
  {
   "cell_type": "code",
   "execution_count": 7,
   "id": "3241b446",
   "metadata": {},
   "outputs": [
    {
     "name": "stderr",
     "output_type": "stream",
     "text": [
      "c:\\Users\\rk871\\anaconda3\\Lib\\site-packages\\pandas\\core\\arraylike.py:399: RuntimeWarning: invalid value encountered in log1p\n",
      "  result = getattr(ufunc, method)(*inputs, **kwargs)\n"
     ]
    }
   ],
   "source": [
    "import pandas as pd\n",
    "import numpy as np\n",
    "from sklearn.preprocessing import LabelEncoder\n",
    "from xgboost import XGBRegressor\n",
    "\n",
    "# Load data\n",
    "train = pd.read_csv(\"train_data.csv\")\n",
    "test = pd.read_csv(\"test_data.csv\")\n",
    "\n",
    "# Use default index as ID\n",
    "test_ids = range(len(test))\n",
    "\n",
    "# Separate target\n",
    "target = train[\"purchaseValue\"]\n",
    "train.drop(columns=[\"purchaseValue\"], inplace=True)\n",
    "\n",
    "# Combine for preprocessing\n",
    "df = pd.concat([train, test], axis=0)\n",
    "\n",
    "# Fill missing values\n",
    "df.fillna(-999, inplace=True)\n",
    "\n",
    "# Encode categorical columns (convert all to string first)\n",
    "for col in df.select_dtypes(include='object').columns:\n",
    "    df[col] = df[col].astype(str)\n",
    "    df[col] = LabelEncoder().fit_transform(df[col])\n",
    "\n",
    "# Feature engineering\n",
    "df['log_totalHits'] = np.log1p(df['totalHits'])\n",
    "df['log_pageViews'] = np.log1p(df['pageViews'])\n",
    "df['pageViews_totalHits'] = df['pageViews'] * df['totalHits']\n",
    "\n",
    "# Select useful features\n",
    "important_features = [\n",
    "    'totalHits', 'pageViews', 'sessionNumber',\n",
    "    'log_totalHits', 'log_pageViews', 'pageViews_totalHits'\n",
    "]\n",
    "\n",
    "# Split back to train and test\n",
    "train_X = df.iloc[:len(train)][important_features]\n",
    "test_X = df.iloc[len(train):][important_features]\n",
    "\n",
    "# Train model\n",
    "model = XGBRegressor(n_estimators=100, learning_rate=0.1, max_depth=6)\n",
    "model.fit(train_X, target)\n",
    "\n",
    "# Predict\n",
    "predictions = model.predict(test_X)\n",
    "\n",
    "# Submission file\n",
    "submission = pd.DataFrame({\n",
    "    \"id\": test_ids,\n",
    "    \"purchaseValue\": predictions\n",
    "})\n",
    "submission.to_csv(\"submission.csv\", index=False)\n"
   ]
  },
  {
   "cell_type": "code",
   "execution_count": 8,
   "id": "dba2cb73",
   "metadata": {},
   "outputs": [
    {
     "name": "stdout",
     "output_type": "stream",
     "text": [
      "R² Score on Validation Set: -0.006260856739349618\n"
     ]
    }
   ],
   "source": [
    "from sklearn.model_selection import train_test_split\n",
    "from sklearn.metrics import r2_score\n",
    "\n",
    "# Prepare data again from the combined DataFrame\n",
    "train_data = df.iloc[:len(train)]\n",
    "train_X_full = train_data[important_features]\n",
    "train_y_full = target\n",
    "\n",
    "# Split into training and validation sets\n",
    "X_train, X_val, y_train, y_val = train_test_split(train_X_full, train_y_full, test_size=0.2, random_state=42)\n",
    "\n",
    "# Train model\n",
    "model = XGBRegressor(n_estimators=100, learning_rate=0.1, max_depth=6)\n",
    "model.fit(X_train, y_train)\n",
    "\n",
    "# Predict on validation set\n",
    "val_preds = model.predict(X_val)\n",
    "\n",
    "# Calculate R² score\n",
    "r2 = r2_score(y_val, val_preds)\n",
    "print(\"R² Score on Validation Set:\", r2)\n"
   ]
  }
 ],
 "metadata": {
  "kernelspec": {
   "display_name": "base",
   "language": "python",
   "name": "python3"
  },
  "language_info": {
   "codemirror_mode": {
    "name": "ipython",
    "version": 3
   },
   "file_extension": ".py",
   "mimetype": "text/x-python",
   "name": "python",
   "nbconvert_exporter": "python",
   "pygments_lexer": "ipython3",
   "version": "3.12.7"
  }
 },
 "nbformat": 4,
 "nbformat_minor": 5
}
