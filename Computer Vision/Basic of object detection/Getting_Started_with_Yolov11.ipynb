{
  "nbformat": 4,
  "nbformat_minor": 0,
  "metadata": {
    "colab": {
      "provenance": []
    },
    "kernelspec": {
      "name": "python3",
      "display_name": "Python 3"
    },
    "language_info": {
      "name": "python"
    }
  },
  "cells": [
    {
      "cell_type": "markdown",
      "source": [
        "# Inferencing with Pretrained YOLO Models"
      ],
      "metadata": {
        "id": "RgyO_hytsG7a"
      }
    },
    {
      "cell_type": "markdown",
      "source": [
        "### Installing Ultralytics"
      ],
      "metadata": {
        "id": "rMuxkTyHsG3p"
      }
    },
    {
      "cell_type": "code",
      "execution_count": null,
      "metadata": {
        "colab": {
          "base_uri": "https://localhost:8080/"
        },
        "id": "UruU_Edrh58X",
        "outputId": "80b189e6-94f9-4998-92ef-4aff39e5b254"
      },
      "outputs": [
        {
          "output_type": "stream",
          "name": "stdout",
          "text": [
            "Ultralytics 8.3.91 🚀 Python-3.11.11 torch-2.6.0+cu124 CPU (Intel Xeon 2.20GHz)\n",
            "Setup complete ✅ (2 CPUs, 12.7 GB RAM, 40.9/225.8 GB disk)\n"
          ]
        }
      ],
      "source": [
        "%pip install ultralytics\n",
        "import ultralytics\n",
        "ultralytics.checks()"
      ]
    },
    {
      "cell_type": "markdown",
      "source": [
        "## Command Line Interface"
      ],
      "metadata": {
        "id": "Rb3fqLlum8CZ"
      }
    },
    {
      "cell_type": "markdown",
      "source": [
        "### Using Yolo Pretrained Models for Prediction"
      ],
      "metadata": {
        "id": "OTvpBWA7neRG"
      }
    },
    {
      "cell_type": "markdown",
      "source": [
        "[Explore YOLO Models](https://docs.ultralytics.com/tasks/detect/#models)"
      ],
      "metadata": {
        "id": "iKn7qh9atmIm"
      }
    },
    {
      "cell_type": "code",
      "source": [
        "# Visualize the Predicted image function\n",
        "import cv2\n",
        "from google.colab.patches import cv2_imshow\n",
        "\n",
        "def show_image(image_path):\n",
        "    \"\"\"\n",
        "    Function to display an image using OpenCV in Google Colab.\n",
        "\n",
        "    Parameters:\n",
        "    - image_path (str): Path to the image file.\n",
        "    \"\"\"\n",
        "    image = cv2.imread(image_path)\n",
        "    if image is None:\n",
        "        print(\"Error: Image not found!\")\n",
        "        return\n",
        "\n",
        "    cv2_imshow(image)"
      ],
      "metadata": {
        "id": "5uyqBQi4u_2d"
      },
      "execution_count": null,
      "outputs": []
    },
    {
      "cell_type": "markdown",
      "source": [
        "Nano Model"
      ],
      "metadata": {
        "id": "uiA--BJ7tt6w"
      }
    },
    {
      "cell_type": "code",
      "source": [
        "# Run inference on an image with YOLO11n\n",
        "!yolo predict model=yolo11n.pt source='https://images.pexels.com/photos/169198/pexels-photo-169198.jpeg'"
      ],
      "metadata": {
        "colab": {
          "base_uri": "https://localhost:8080/"
        },
        "id": "qxpS58AniP-E",
        "outputId": "7778c8da-7a22-4084-fc31-a2a4ae7cafdf"
      },
      "execution_count": null,
      "outputs": [
        {
          "output_type": "stream",
          "name": "stdout",
          "text": [
            "Downloading https://github.com/ultralytics/assets/releases/download/v8.3.0/yolo11n.pt to 'yolo11n.pt'...\n",
            "100% 5.35M/5.35M [00:00<00:00, 98.4MB/s]\n",
            "Ultralytics 8.3.91 🚀 Python-3.11.11 torch-2.6.0+cu124 CPU (Intel Xeon 2.20GHz)\n",
            "YOLO11n summary (fused): 100 layers, 2,616,248 parameters, 0 gradients, 6.5 GFLOPs\n",
            "\n",
            "Downloading https://images.pexels.com/photos/169198/pexels-photo-169198.jpeg to 'pexels-photo-169198.jpeg'...\n",
            "100% 773k/773k [00:00<00:00, 7.75MB/s]\n",
            "image 1/1 /content/pexels-photo-169198.jpeg: 448x640 4 persons, 183.3ms\n",
            "Speed: 15.2ms preprocess, 183.3ms inference, 29.6ms postprocess per image at shape (1, 3, 448, 640)\n",
            "Results saved to \u001b[1mruns/detect/predict\u001b[0m\n",
            "💡 Learn more at https://docs.ultralytics.com/modes/predict\n"
          ]
        }
      ]
    },
    {
      "cell_type": "code",
      "source": [
        "show_image('/content/runs/detect/predict/pexels-photo-169198.jpg')"
      ],
      "metadata": {
        "colab": {
          "base_uri": "https://localhost:8080/",
          "height": 780
        },
        "id": "mj82-GFbvQK8",
        "outputId": "42b51295-0eaa-4243-d100-3b546481954a"
      },
      "execution_count": null,
      "outputs": []
    },
    {
      "cell_type": "markdown",
      "source": [
        "S Model"
      ],
      "metadata": {
        "id": "pbB8e3snwHFT"
      }
    },
    {
      "cell_type": "code",
      "source": [
        "# Run inference on an image with YOLO11s\n",
        "!yolo predict model=yolo11s.pt source='https://images.pexels.com/photos/169198/pexels-photo-169198.jpeg'"
      ],
      "metadata": {
        "colab": {
          "base_uri": "https://localhost:8080/"
        },
        "id": "9GKNzpRxt9xl",
        "outputId": "0c07bd4c-4242-43ae-ffcd-711a0b669e58"
      },
      "execution_count": null,
      "outputs": [
        {
          "output_type": "stream",
          "name": "stdout",
          "text": [
            "Downloading https://github.com/ultralytics/assets/releases/download/v8.3.0/yolo11s.pt to 'yolo11s.pt'...\n",
            "100% 18.4M/18.4M [00:00<00:00, 184MB/s]\n",
            "Ultralytics 8.3.91 🚀 Python-3.11.11 torch-2.6.0+cu124 CPU (Intel Xeon 2.20GHz)\n",
            "YOLO11s summary (fused): 100 layers, 9,443,760 parameters, 0 gradients, 21.5 GFLOPs\n",
            "\n",
            "Found https://images.pexels.com/photos/169198/pexels-photo-169198.jpeg locally at pexels-photo-169198.jpeg\n",
            "image 1/1 /content/pexels-photo-169198.jpeg: 448x640 10 persons, 1 umbrella, 3 chairs, 3 vases, 405.9ms\n",
            "Speed: 3.7ms preprocess, 405.9ms inference, 5.6ms postprocess per image at shape (1, 3, 448, 640)\n",
            "Results saved to \u001b[1mruns/detect/predict2\u001b[0m\n",
            "💡 Learn more at https://docs.ultralytics.com/modes/predict\n"
          ]
        }
      ]
    },
    {
      "cell_type": "code",
      "source": [
        "show_image('/content/runs/detect/predict2/pexels-photo-169198.jpg')"
      ],
      "metadata": {
        "colab": {
          "base_uri": "https://localhost:8080/",
          "height": 780
        },
        "id": "DxZtaAylvYSI",
        "outputId": "362251f7-af5d-4fa3-8f61-7ecd1b4f5f81"
      },
      "execution_count": null,
      "outputs": []
    },
    {
      "cell_type": "markdown",
      "source": [
        "M Model"
      ],
      "metadata": {
        "id": "QPcykZm-wEj3"
      }
    },
    {
      "cell_type": "code",
      "source": [
        "# Run inference on an image with YOLO11m\n",
        "!yolo predict model=yolo11m.pt source='https://images.pexels.com/photos/169198/pexels-photo-169198.jpeg'"
      ],
      "metadata": {
        "colab": {
          "base_uri": "https://localhost:8080/"
        },
        "id": "0tf7VEOgt9oe",
        "outputId": "3bc06b87-afee-431d-a66f-5c3e57604a5a"
      },
      "execution_count": null,
      "outputs": [
        {
          "output_type": "stream",
          "name": "stdout",
          "text": [
            "Downloading https://github.com/ultralytics/assets/releases/download/v8.3.0/yolo11m.pt to 'yolo11m.pt'...\n",
            "100% 38.8M/38.8M [00:00<00:00, 140MB/s]\n",
            "Ultralytics 8.3.91 🚀 Python-3.11.11 torch-2.6.0+cu124 CPU (Intel Xeon 2.20GHz)\n",
            "YOLO11m summary (fused): 125 layers, 20,091,712 parameters, 0 gradients, 68.0 GFLOPs\n",
            "\n",
            "Found https://images.pexels.com/photos/169198/pexels-photo-169198.jpeg locally at pexels-photo-169198.jpeg\n",
            "image 1/1 /content/pexels-photo-169198.jpeg: 448x640 6 persons, 7 chairs, 2 potted plants, 1 vase, 1685.5ms\n",
            "Speed: 5.9ms preprocess, 1685.5ms inference, 2.4ms postprocess per image at shape (1, 3, 448, 640)\n",
            "Results saved to \u001b[1mruns/detect/predict3\u001b[0m\n",
            "💡 Learn more at https://docs.ultralytics.com/modes/predict\n"
          ]
        }
      ]
    },
    {
      "cell_type": "code",
      "source": [
        "show_image('/content/runs/detect/predict3/pexels-photo-169198.jpg')"
      ],
      "metadata": {
        "colab": {
          "base_uri": "https://localhost:8080/",
          "height": 780
        },
        "id": "CxnHplEnveb2",
        "outputId": "3ad61120-ffed-4991-8742-b2b0bcf01e51"
      },
      "execution_count": null,
      "outputs": []
    },
    {
      "cell_type": "markdown",
      "source": [
        "L Model"
      ],
      "metadata": {
        "id": "OtWjtIhlwBS4"
      }
    },
    {
      "cell_type": "code",
      "source": [
        "# Run inference on an image with YOLO11l\n",
        "!yolo predict model=yolo11l.pt source='https://images.pexels.com/photos/169198/pexels-photo-169198.jpeg'"
      ],
      "metadata": {
        "colab": {
          "base_uri": "https://localhost:8080/"
        },
        "id": "WIFOeaTZt9eD",
        "outputId": "afa3c9f4-50b3-4f03-cc94-9272aa8e26cd"
      },
      "execution_count": null,
      "outputs": [
        {
          "output_type": "stream",
          "name": "stdout",
          "text": [
            "Downloading https://github.com/ultralytics/assets/releases/download/v8.3.0/yolo11l.pt to 'yolo11l.pt'...\n",
            "100% 49.0M/49.0M [00:00<00:00, 215MB/s]\n",
            "Ultralytics 8.3.91 🚀 Python-3.11.11 torch-2.6.0+cu124 CPU (Intel Xeon 2.20GHz)\n",
            "YOLO11l summary (fused): 190 layers, 25,340,992 parameters, 0 gradients, 86.9 GFLOPs\n",
            "\n",
            "Found https://images.pexels.com/photos/169198/pexels-photo-169198.jpeg locally at pexels-photo-169198.jpeg\n",
            "image 1/1 /content/pexels-photo-169198.jpeg: 448x640 12 persons, 6 chairs, 4 potted plants, 1 dining table, 2 vases, 1343.4ms\n",
            "Speed: 4.0ms preprocess, 1343.4ms inference, 2.2ms postprocess per image at shape (1, 3, 448, 640)\n",
            "Results saved to \u001b[1mruns/detect/predict4\u001b[0m\n",
            "💡 Learn more at https://docs.ultralytics.com/modes/predict\n"
          ]
        }
      ]
    },
    {
      "cell_type": "code",
      "source": [
        "show_image('/content/runs/detect/predict4/pexels-photo-169198.jpg')"
      ],
      "metadata": {
        "colab": {
          "base_uri": "https://localhost:8080/",
          "height": 780
        },
        "id": "EMMPpsidvjHL",
        "outputId": "b058ed32-81e1-4da0-baf1-7c4e9c7b592e"
      },
      "execution_count": null,
      "outputs": []
    },
    {
      "cell_type": "markdown",
      "source": [
        "X Model"
      ],
      "metadata": {
        "id": "gWovwKqMv99l"
      }
    },
    {
      "cell_type": "code",
      "source": [
        "# Run inference on an image with YOLO11x\n",
        "!yolo predict model=yolo11x.pt source='https://images.pexels.com/photos/169198/pexels-photo-169198.jpeg'"
      ],
      "metadata": {
        "colab": {
          "base_uri": "https://localhost:8080/"
        },
        "id": "twVUNhdguC6t",
        "outputId": "0c0eeb1d-c3c5-47d1-9c85-aeca3f088fdd"
      },
      "execution_count": null,
      "outputs": [
        {
          "output_type": "stream",
          "name": "stdout",
          "text": [
            "Downloading https://github.com/ultralytics/assets/releases/download/v8.3.0/yolo11x.pt to 'yolo11x.pt'...\n",
            "100% 109M/109M [00:00<00:00, 338MB/s] \n",
            "Ultralytics 8.3.91 🚀 Python-3.11.11 torch-2.6.0+cu124 CPU (Intel Xeon 2.20GHz)\n",
            "YOLO11x summary (fused): 190 layers, 56,919,424 parameters, 0 gradients, 194.9 GFLOPs\n",
            "\n",
            "Found https://images.pexels.com/photos/169198/pexels-photo-169198.jpeg locally at pexels-photo-169198.jpeg\n",
            "image 1/1 /content/pexels-photo-169198.jpeg: 448x640 11 persons, 7 chairs, 5 potted plants, 1 dining table, 1 vase, 3296.2ms\n",
            "Speed: 5.5ms preprocess, 3296.2ms inference, 1.9ms postprocess per image at shape (1, 3, 448, 640)\n",
            "Results saved to \u001b[1mruns/detect/predict5\u001b[0m\n",
            "💡 Learn more at https://docs.ultralytics.com/modes/predict\n"
          ]
        }
      ]
    },
    {
      "cell_type": "code",
      "source": [
        "show_image('/content/runs/detect/predict5/pexels-photo-169198.jpg')"
      ],
      "metadata": {
        "colab": {
          "base_uri": "https://localhost:8080/",
          "height": 780
        },
        "id": "nngkCh-5vn2f",
        "outputId": "aee7910f-1111-4394-b16b-f085e0e8cf9c"
      },
      "execution_count": null,
      "outputs": []
    }
  ]
}