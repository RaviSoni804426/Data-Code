{
 "cells": [
  {
   "cell_type": "code",
   "execution_count": 7,
   "metadata": {},
   "outputs": [],
   "source": [
    "import pandas as pd \n",
    "import numpy as np \n",
    "import matplotlib.pyplot as plt\n",
    "import seaborn as sns \n",
    "%matplotlib inline"
   ]
  },
  {
   "cell_type": "markdown",
   "metadata": {},
   "source": [
    "Step 1: Load and Inspect the Dataset"
   ]
  },
  {
   "cell_type": "code",
   "execution_count": 8,
   "metadata": {},
   "outputs": [],
   "source": [
    "df=pd.read_excel('Election_Data.xlsx')"
   ]
  },
  {
   "cell_type": "code",
   "execution_count": 9,
   "metadata": {},
   "outputs": [
    {
     "data": {
      "application/vnd.microsoft.datawrangler.viewer.v0+json": {
       "columns": [
        {
         "name": "index",
         "rawType": "int64",
         "type": "integer"
        },
        {
         "name": "Unnamed: 0",
         "rawType": "int64",
         "type": "integer"
        },
        {
         "name": "vote",
         "rawType": "object",
         "type": "string"
        },
        {
         "name": "age",
         "rawType": "int64",
         "type": "integer"
        },
        {
         "name": "economic.cond.national",
         "rawType": "int64",
         "type": "integer"
        },
        {
         "name": "economic.cond.household",
         "rawType": "int64",
         "type": "integer"
        },
        {
         "name": "Blair",
         "rawType": "int64",
         "type": "integer"
        },
        {
         "name": "Hague",
         "rawType": "int64",
         "type": "integer"
        },
        {
         "name": "Europe",
         "rawType": "int64",
         "type": "integer"
        },
        {
         "name": "political.knowledge",
         "rawType": "int64",
         "type": "integer"
        },
        {
         "name": "gender",
         "rawType": "object",
         "type": "string"
        }
       ],
       "conversionMethod": "pd.DataFrame",
       "ref": "8dc989c7-c628-4696-8476-026d97d4c410",
       "rows": [
        [
         "0",
         "1",
         "Labour",
         "43",
         "3",
         "3",
         "4",
         "1",
         "2",
         "2",
         "female"
        ],
        [
         "1",
         "2",
         "Labour",
         "36",
         "4",
         "4",
         "4",
         "4",
         "5",
         "2",
         "male"
        ],
        [
         "2",
         "3",
         "Labour",
         "35",
         "4",
         "4",
         "5",
         "2",
         "3",
         "2",
         "male"
        ],
        [
         "3",
         "4",
         "Labour",
         "24",
         "4",
         "2",
         "2",
         "1",
         "4",
         "0",
         "female"
        ],
        [
         "4",
         "5",
         "Labour",
         "41",
         "2",
         "2",
         "1",
         "1",
         "6",
         "2",
         "male"
        ]
       ],
       "shape": {
        "columns": 10,
        "rows": 5
       }
      },
      "text/html": [
       "<div>\n",
       "<style scoped>\n",
       "    .dataframe tbody tr th:only-of-type {\n",
       "        vertical-align: middle;\n",
       "    }\n",
       "\n",
       "    .dataframe tbody tr th {\n",
       "        vertical-align: top;\n",
       "    }\n",
       "\n",
       "    .dataframe thead th {\n",
       "        text-align: right;\n",
       "    }\n",
       "</style>\n",
       "<table border=\"1\" class=\"dataframe\">\n",
       "  <thead>\n",
       "    <tr style=\"text-align: right;\">\n",
       "      <th></th>\n",
       "      <th>Unnamed: 0</th>\n",
       "      <th>vote</th>\n",
       "      <th>age</th>\n",
       "      <th>economic.cond.national</th>\n",
       "      <th>economic.cond.household</th>\n",
       "      <th>Blair</th>\n",
       "      <th>Hague</th>\n",
       "      <th>Europe</th>\n",
       "      <th>political.knowledge</th>\n",
       "      <th>gender</th>\n",
       "    </tr>\n",
       "  </thead>\n",
       "  <tbody>\n",
       "    <tr>\n",
       "      <th>0</th>\n",
       "      <td>1</td>\n",
       "      <td>Labour</td>\n",
       "      <td>43</td>\n",
       "      <td>3</td>\n",
       "      <td>3</td>\n",
       "      <td>4</td>\n",
       "      <td>1</td>\n",
       "      <td>2</td>\n",
       "      <td>2</td>\n",
       "      <td>female</td>\n",
       "    </tr>\n",
       "    <tr>\n",
       "      <th>1</th>\n",
       "      <td>2</td>\n",
       "      <td>Labour</td>\n",
       "      <td>36</td>\n",
       "      <td>4</td>\n",
       "      <td>4</td>\n",
       "      <td>4</td>\n",
       "      <td>4</td>\n",
       "      <td>5</td>\n",
       "      <td>2</td>\n",
       "      <td>male</td>\n",
       "    </tr>\n",
       "    <tr>\n",
       "      <th>2</th>\n",
       "      <td>3</td>\n",
       "      <td>Labour</td>\n",
       "      <td>35</td>\n",
       "      <td>4</td>\n",
       "      <td>4</td>\n",
       "      <td>5</td>\n",
       "      <td>2</td>\n",
       "      <td>3</td>\n",
       "      <td>2</td>\n",
       "      <td>male</td>\n",
       "    </tr>\n",
       "    <tr>\n",
       "      <th>3</th>\n",
       "      <td>4</td>\n",
       "      <td>Labour</td>\n",
       "      <td>24</td>\n",
       "      <td>4</td>\n",
       "      <td>2</td>\n",
       "      <td>2</td>\n",
       "      <td>1</td>\n",
       "      <td>4</td>\n",
       "      <td>0</td>\n",
       "      <td>female</td>\n",
       "    </tr>\n",
       "    <tr>\n",
       "      <th>4</th>\n",
       "      <td>5</td>\n",
       "      <td>Labour</td>\n",
       "      <td>41</td>\n",
       "      <td>2</td>\n",
       "      <td>2</td>\n",
       "      <td>1</td>\n",
       "      <td>1</td>\n",
       "      <td>6</td>\n",
       "      <td>2</td>\n",
       "      <td>male</td>\n",
       "    </tr>\n",
       "  </tbody>\n",
       "</table>\n",
       "</div>"
      ],
      "text/plain": [
       "   Unnamed: 0    vote  age  economic.cond.national  economic.cond.household  \\\n",
       "0           1  Labour   43                       3                        3   \n",
       "1           2  Labour   36                       4                        4   \n",
       "2           3  Labour   35                       4                        4   \n",
       "3           4  Labour   24                       4                        2   \n",
       "4           5  Labour   41                       2                        2   \n",
       "\n",
       "   Blair  Hague  Europe  political.knowledge  gender  \n",
       "0      4      1       2                    2  female  \n",
       "1      4      4       5                    2    male  \n",
       "2      5      2       3                    2    male  \n",
       "3      2      1       4                    0  female  \n",
       "4      1      1       6                    2    male  "
      ]
     },
     "execution_count": 9,
     "metadata": {},
     "output_type": "execute_result"
    }
   ],
   "source": [
    "df.head()"
   ]
  },
  {
   "cell_type": "code",
   "execution_count": 10,
   "metadata": {},
   "outputs": [],
   "source": [
    "df.drop(columns=['Unnamed: 0'], inplace=True)"
   ]
  },
  {
   "cell_type": "code",
   "execution_count": 11,
   "metadata": {},
   "outputs": [
    {
     "data": {
      "application/vnd.microsoft.datawrangler.viewer.v0+json": {
       "columns": [
        {
         "name": "index",
         "rawType": "int64",
         "type": "integer"
        },
        {
         "name": "vote",
         "rawType": "object",
         "type": "string"
        },
        {
         "name": "age",
         "rawType": "int64",
         "type": "integer"
        },
        {
         "name": "economic.cond.national",
         "rawType": "int64",
         "type": "integer"
        },
        {
         "name": "economic.cond.household",
         "rawType": "int64",
         "type": "integer"
        },
        {
         "name": "Blair",
         "rawType": "int64",
         "type": "integer"
        },
        {
         "name": "Hague",
         "rawType": "int64",
         "type": "integer"
        },
        {
         "name": "Europe",
         "rawType": "int64",
         "type": "integer"
        },
        {
         "name": "political.knowledge",
         "rawType": "int64",
         "type": "integer"
        },
        {
         "name": "gender",
         "rawType": "object",
         "type": "string"
        }
       ],
       "conversionMethod": "pd.DataFrame",
       "ref": "6f43950b-2e68-4923-9d09-ddc7882a18bb",
       "rows": [
        [
         "0",
         "Labour",
         "43",
         "3",
         "3",
         "4",
         "1",
         "2",
         "2",
         "female"
        ],
        [
         "1",
         "Labour",
         "36",
         "4",
         "4",
         "4",
         "4",
         "5",
         "2",
         "male"
        ],
        [
         "2",
         "Labour",
         "35",
         "4",
         "4",
         "5",
         "2",
         "3",
         "2",
         "male"
        ],
        [
         "3",
         "Labour",
         "24",
         "4",
         "2",
         "2",
         "1",
         "4",
         "0",
         "female"
        ],
        [
         "4",
         "Labour",
         "41",
         "2",
         "2",
         "1",
         "1",
         "6",
         "2",
         "male"
        ]
       ],
       "shape": {
        "columns": 9,
        "rows": 5
       }
      },
      "text/html": [
       "<div>\n",
       "<style scoped>\n",
       "    .dataframe tbody tr th:only-of-type {\n",
       "        vertical-align: middle;\n",
       "    }\n",
       "\n",
       "    .dataframe tbody tr th {\n",
       "        vertical-align: top;\n",
       "    }\n",
       "\n",
       "    .dataframe thead th {\n",
       "        text-align: right;\n",
       "    }\n",
       "</style>\n",
       "<table border=\"1\" class=\"dataframe\">\n",
       "  <thead>\n",
       "    <tr style=\"text-align: right;\">\n",
       "      <th></th>\n",
       "      <th>vote</th>\n",
       "      <th>age</th>\n",
       "      <th>economic.cond.national</th>\n",
       "      <th>economic.cond.household</th>\n",
       "      <th>Blair</th>\n",
       "      <th>Hague</th>\n",
       "      <th>Europe</th>\n",
       "      <th>political.knowledge</th>\n",
       "      <th>gender</th>\n",
       "    </tr>\n",
       "  </thead>\n",
       "  <tbody>\n",
       "    <tr>\n",
       "      <th>0</th>\n",
       "      <td>Labour</td>\n",
       "      <td>43</td>\n",
       "      <td>3</td>\n",
       "      <td>3</td>\n",
       "      <td>4</td>\n",
       "      <td>1</td>\n",
       "      <td>2</td>\n",
       "      <td>2</td>\n",
       "      <td>female</td>\n",
       "    </tr>\n",
       "    <tr>\n",
       "      <th>1</th>\n",
       "      <td>Labour</td>\n",
       "      <td>36</td>\n",
       "      <td>4</td>\n",
       "      <td>4</td>\n",
       "      <td>4</td>\n",
       "      <td>4</td>\n",
       "      <td>5</td>\n",
       "      <td>2</td>\n",
       "      <td>male</td>\n",
       "    </tr>\n",
       "    <tr>\n",
       "      <th>2</th>\n",
       "      <td>Labour</td>\n",
       "      <td>35</td>\n",
       "      <td>4</td>\n",
       "      <td>4</td>\n",
       "      <td>5</td>\n",
       "      <td>2</td>\n",
       "      <td>3</td>\n",
       "      <td>2</td>\n",
       "      <td>male</td>\n",
       "    </tr>\n",
       "    <tr>\n",
       "      <th>3</th>\n",
       "      <td>Labour</td>\n",
       "      <td>24</td>\n",
       "      <td>4</td>\n",
       "      <td>2</td>\n",
       "      <td>2</td>\n",
       "      <td>1</td>\n",
       "      <td>4</td>\n",
       "      <td>0</td>\n",
       "      <td>female</td>\n",
       "    </tr>\n",
       "    <tr>\n",
       "      <th>4</th>\n",
       "      <td>Labour</td>\n",
       "      <td>41</td>\n",
       "      <td>2</td>\n",
       "      <td>2</td>\n",
       "      <td>1</td>\n",
       "      <td>1</td>\n",
       "      <td>6</td>\n",
       "      <td>2</td>\n",
       "      <td>male</td>\n",
       "    </tr>\n",
       "  </tbody>\n",
       "</table>\n",
       "</div>"
      ],
      "text/plain": [
       "     vote  age  economic.cond.national  economic.cond.household  Blair  Hague  \\\n",
       "0  Labour   43                       3                        3      4      1   \n",
       "1  Labour   36                       4                        4      4      4   \n",
       "2  Labour   35                       4                        4      5      2   \n",
       "3  Labour   24                       4                        2      2      1   \n",
       "4  Labour   41                       2                        2      1      1   \n",
       "\n",
       "   Europe  political.knowledge  gender  \n",
       "0       2                    2  female  \n",
       "1       5                    2    male  \n",
       "2       3                    2    male  \n",
       "3       4                    0  female  \n",
       "4       6                    2    male  "
      ]
     },
     "execution_count": 11,
     "metadata": {},
     "output_type": "execute_result"
    }
   ],
   "source": [
    "df.head()"
   ]
  },
  {
   "cell_type": "markdown",
   "metadata": {},
   "source": [
    " Step 2: Check for Missing Values and Data Types"
   ]
  },
  {
   "cell_type": "code",
   "execution_count": 12,
   "metadata": {},
   "outputs": [
    {
     "name": "stdout",
     "output_type": "stream",
     "text": [
      "vote                       0\n",
      "age                        0\n",
      "economic.cond.national     0\n",
      "economic.cond.household    0\n",
      "Blair                      0\n",
      "Hague                      0\n",
      "Europe                     0\n",
      "political.knowledge        0\n",
      "gender                     0\n",
      "dtype: int64\n"
     ]
    }
   ],
   "source": [
    "print(df.isnull().sum())"
   ]
  },
  {
   "cell_type": "code",
   "execution_count": 13,
   "metadata": {},
   "outputs": [
    {
     "name": "stdout",
     "output_type": "stream",
     "text": [
      "vote                       object\n",
      "age                         int64\n",
      "economic.cond.national      int64\n",
      "economic.cond.household     int64\n",
      "Blair                       int64\n",
      "Hague                       int64\n",
      "Europe                      int64\n",
      "political.knowledge         int64\n",
      "gender                     object\n",
      "dtype: object\n"
     ]
    }
   ],
   "source": [
    "print(df.dtypes)"
   ]
  },
  {
   "cell_type": "code",
   "execution_count": 28,
   "metadata": {},
   "outputs": [],
   "source": [
    "# Convert categorical variables to numerical\n",
    "df[\"vote\"] = df[\"vote\"].map({\"Labour\": 0, \"Conservative\": 1})\n",
    "df[\"gender\"] = df[\"gender\"].map({\"female\": 0, \"male\": 1})"
   ]
  },
  {
   "cell_type": "markdown",
   "metadata": {},
   "source": [
    "Step 3: Exploratory Data Analysis (EDA)"
   ]
  },
  {
   "cell_type": "markdown",
   "metadata": {},
   "source": [
    "📌 Statistical Summary"
   ]
  },
  {
   "cell_type": "code",
   "execution_count": 14,
   "metadata": {},
   "outputs": [
    {
     "data": {
      "application/vnd.microsoft.datawrangler.viewer.v0+json": {
       "columns": [
        {
         "name": "index",
         "rawType": "object",
         "type": "string"
        },
        {
         "name": "age",
         "rawType": "float64",
         "type": "float"
        },
        {
         "name": "economic.cond.national",
         "rawType": "float64",
         "type": "float"
        },
        {
         "name": "economic.cond.household",
         "rawType": "float64",
         "type": "float"
        },
        {
         "name": "Blair",
         "rawType": "float64",
         "type": "float"
        },
        {
         "name": "Hague",
         "rawType": "float64",
         "type": "float"
        },
        {
         "name": "Europe",
         "rawType": "float64",
         "type": "float"
        },
        {
         "name": "political.knowledge",
         "rawType": "float64",
         "type": "float"
        }
       ],
       "conversionMethod": "pd.DataFrame",
       "ref": "37d247f5-ef9f-4a88-911e-611964317eb6",
       "rows": [
        [
         "count",
         "1525.0",
         "1525.0",
         "1525.0",
         "1525.0",
         "1525.0",
         "1525.0",
         "1525.0"
        ],
        [
         "mean",
         "54.18229508196721",
         "3.2459016393442623",
         "3.140327868852459",
         "3.3344262295081966",
         "2.7468852459016393",
         "6.728524590163935",
         "1.5422950819672132"
        ],
        [
         "std",
         "15.711208571641961",
         "0.8809692844149635",
         "0.9299513985782095",
         "1.1748241123034628",
         "1.2307034736168019",
         "3.2975383704631973",
         "1.0833147486432684"
        ],
        [
         "min",
         "24.0",
         "1.0",
         "1.0",
         "1.0",
         "1.0",
         "1.0",
         "0.0"
        ],
        [
         "25%",
         "41.0",
         "3.0",
         "3.0",
         "2.0",
         "2.0",
         "4.0",
         "0.0"
        ],
        [
         "50%",
         "53.0",
         "3.0",
         "3.0",
         "4.0",
         "2.0",
         "6.0",
         "2.0"
        ],
        [
         "75%",
         "67.0",
         "4.0",
         "4.0",
         "4.0",
         "4.0",
         "10.0",
         "2.0"
        ],
        [
         "max",
         "93.0",
         "5.0",
         "5.0",
         "5.0",
         "5.0",
         "11.0",
         "3.0"
        ]
       ],
       "shape": {
        "columns": 7,
        "rows": 8
       }
      },
      "text/html": [
       "<div>\n",
       "<style scoped>\n",
       "    .dataframe tbody tr th:only-of-type {\n",
       "        vertical-align: middle;\n",
       "    }\n",
       "\n",
       "    .dataframe tbody tr th {\n",
       "        vertical-align: top;\n",
       "    }\n",
       "\n",
       "    .dataframe thead th {\n",
       "        text-align: right;\n",
       "    }\n",
       "</style>\n",
       "<table border=\"1\" class=\"dataframe\">\n",
       "  <thead>\n",
       "    <tr style=\"text-align: right;\">\n",
       "      <th></th>\n",
       "      <th>age</th>\n",
       "      <th>economic.cond.national</th>\n",
       "      <th>economic.cond.household</th>\n",
       "      <th>Blair</th>\n",
       "      <th>Hague</th>\n",
       "      <th>Europe</th>\n",
       "      <th>political.knowledge</th>\n",
       "    </tr>\n",
       "  </thead>\n",
       "  <tbody>\n",
       "    <tr>\n",
       "      <th>count</th>\n",
       "      <td>1525.000000</td>\n",
       "      <td>1525.000000</td>\n",
       "      <td>1525.000000</td>\n",
       "      <td>1525.000000</td>\n",
       "      <td>1525.000000</td>\n",
       "      <td>1525.000000</td>\n",
       "      <td>1525.000000</td>\n",
       "    </tr>\n",
       "    <tr>\n",
       "      <th>mean</th>\n",
       "      <td>54.182295</td>\n",
       "      <td>3.245902</td>\n",
       "      <td>3.140328</td>\n",
       "      <td>3.334426</td>\n",
       "      <td>2.746885</td>\n",
       "      <td>6.728525</td>\n",
       "      <td>1.542295</td>\n",
       "    </tr>\n",
       "    <tr>\n",
       "      <th>std</th>\n",
       "      <td>15.711209</td>\n",
       "      <td>0.880969</td>\n",
       "      <td>0.929951</td>\n",
       "      <td>1.174824</td>\n",
       "      <td>1.230703</td>\n",
       "      <td>3.297538</td>\n",
       "      <td>1.083315</td>\n",
       "    </tr>\n",
       "    <tr>\n",
       "      <th>min</th>\n",
       "      <td>24.000000</td>\n",
       "      <td>1.000000</td>\n",
       "      <td>1.000000</td>\n",
       "      <td>1.000000</td>\n",
       "      <td>1.000000</td>\n",
       "      <td>1.000000</td>\n",
       "      <td>0.000000</td>\n",
       "    </tr>\n",
       "    <tr>\n",
       "      <th>25%</th>\n",
       "      <td>41.000000</td>\n",
       "      <td>3.000000</td>\n",
       "      <td>3.000000</td>\n",
       "      <td>2.000000</td>\n",
       "      <td>2.000000</td>\n",
       "      <td>4.000000</td>\n",
       "      <td>0.000000</td>\n",
       "    </tr>\n",
       "    <tr>\n",
       "      <th>50%</th>\n",
       "      <td>53.000000</td>\n",
       "      <td>3.000000</td>\n",
       "      <td>3.000000</td>\n",
       "      <td>4.000000</td>\n",
       "      <td>2.000000</td>\n",
       "      <td>6.000000</td>\n",
       "      <td>2.000000</td>\n",
       "    </tr>\n",
       "    <tr>\n",
       "      <th>75%</th>\n",
       "      <td>67.000000</td>\n",
       "      <td>4.000000</td>\n",
       "      <td>4.000000</td>\n",
       "      <td>4.000000</td>\n",
       "      <td>4.000000</td>\n",
       "      <td>10.000000</td>\n",
       "      <td>2.000000</td>\n",
       "    </tr>\n",
       "    <tr>\n",
       "      <th>max</th>\n",
       "      <td>93.000000</td>\n",
       "      <td>5.000000</td>\n",
       "      <td>5.000000</td>\n",
       "      <td>5.000000</td>\n",
       "      <td>5.000000</td>\n",
       "      <td>11.000000</td>\n",
       "      <td>3.000000</td>\n",
       "    </tr>\n",
       "  </tbody>\n",
       "</table>\n",
       "</div>"
      ],
      "text/plain": [
       "               age  economic.cond.national  economic.cond.household  \\\n",
       "count  1525.000000             1525.000000              1525.000000   \n",
       "mean     54.182295                3.245902                 3.140328   \n",
       "std      15.711209                0.880969                 0.929951   \n",
       "min      24.000000                1.000000                 1.000000   \n",
       "25%      41.000000                3.000000                 3.000000   \n",
       "50%      53.000000                3.000000                 3.000000   \n",
       "75%      67.000000                4.000000                 4.000000   \n",
       "max      93.000000                5.000000                 5.000000   \n",
       "\n",
       "             Blair        Hague       Europe  political.knowledge  \n",
       "count  1525.000000  1525.000000  1525.000000          1525.000000  \n",
       "mean      3.334426     2.746885     6.728525             1.542295  \n",
       "std       1.174824     1.230703     3.297538             1.083315  \n",
       "min       1.000000     1.000000     1.000000             0.000000  \n",
       "25%       2.000000     2.000000     4.000000             0.000000  \n",
       "50%       4.000000     2.000000     6.000000             2.000000  \n",
       "75%       4.000000     4.000000    10.000000             2.000000  \n",
       "max       5.000000     5.000000    11.000000             3.000000  "
      ]
     },
     "execution_count": 14,
     "metadata": {},
     "output_type": "execute_result"
    }
   ],
   "source": [
    "df.describe()"
   ]
  },
  {
   "cell_type": "markdown",
   "metadata": {},
   "source": [
    "📌 Visualizing Target Variable Distribution"
   ]
  },
  {
   "cell_type": "markdown",
   "metadata": {},
   "source": [
    "📌 Univariate Analysis"
   ]
  },
  {
   "cell_type": "code",
   "execution_count": 15,
   "metadata": {},
   "outputs": [
    {
     "data": {
      "image/png": "[encoded data removed]",
      "text/plain": [
       "<Figure size 640x480 with 1 Axes>"
      ]
     },
     "metadata": {},
     "output_type": "display_data"
    }
   ],
   "source": [
    "import seaborn as sns\n",
    "import matplotlib.pyplot as plt\n",
    "\n",
    "# Count plot for 'vote' column\n",
    "sns.countplot(x=df[\"vote\"])\n",
    "plt.title(\"Distribution of Voter Preference\")\n",
    "plt.show()\n"
   ]
  },
  {
   "cell_type": "code",
   "execution_count": 29,
   "metadata": {},
   "outputs": [
    {
     "data": {
      "image/png": "[encoded data removed]",
      "text/plain": [
       "<Figure size 640x480 with 1 Axes>"
      ]
     },
     "metadata": {},
     "output_type": "display_data"
    },
    {
     "data": {
      "image/png": "[encoded data removed]",
      "text/plain": [
       "<Figure size 1000x500 with 1 Axes>"
      ]
     },
     "metadata": {},
     "output_type": "display_data"
    }
   ],
   "source": [
    "import seaborn as sns\n",
    "import matplotlib.pyplot as plt\n",
    "\n",
    "# Distribution of target variable\n",
    "sns.countplot(x=df[\"vote\"])\n",
    "plt.title(\"Distribution of Voter Preference\")\n",
    "plt.show()\n",
    "\n",
    "# Boxplot to detect outliers\n",
    "plt.figure(figsize=(10, 5))\n",
    "sns.boxplot(data=df.drop(columns=[\"vote\"]))\n",
    "plt.title(\"Outlier Detection in Numerical Features\")\n",
    "plt.xticks(rotation=45)\n",
    "plt.show()\n"
   ]
  },
  {
   "cell_type": "markdown",
   "metadata": {},
   "source": [
    "📌 Checking Correlations Between Features"
   ]
  },
  {
   "cell_type": "markdown",
   "metadata": {},
   "source": [
    "📌 Bivariate Analysis"
   ]
  },
  {
   "cell_type": "code",
   "execution_count": 18,
   "metadata": {},
   "outputs": [
    {
     "data": {
      "image/png": "[encoded data removed]",
      "text/plain": [
       "<Figure size 1000x600 with 2 Axes>"
      ]
     },
     "metadata": {},
     "output_type": "display_data"
    }
   ],
   "source": [
    "# Correlation heatmap\n",
    "plt.figure(figsize=(10,6))\n",
    "sns.heatmap(df.corr(), annot=True, cmap=\"coolwarm\")\n",
    "plt.title(\"Feature Correlation Heatmap\")\n",
    "plt.show()\n"
   ]
  },
  {
   "cell_type": "markdown",
   "metadata": {},
   "source": [
    " Step 4: Convert Categorical Variables"
   ]
  },
  {
   "cell_type": "code",
   "execution_count": 17,
   "metadata": {},
   "outputs": [
    {
     "data": {
      "application/vnd.microsoft.datawrangler.viewer.v0+json": {
       "columns": [
        {
         "name": "index",
         "rawType": "int64",
         "type": "integer"
        },
        {
         "name": "vote",
         "rawType": "int64",
         "type": "integer"
        },
        {
         "name": "age",
         "rawType": "int64",
         "type": "integer"
        },
        {
         "name": "economic.cond.national",
         "rawType": "int64",
         "type": "integer"
        },
        {
         "name": "economic.cond.household",
         "rawType": "int64",
         "type": "integer"
        },
        {
         "name": "Blair",
         "rawType": "int64",
         "type": "integer"
        },
        {
         "name": "Hague",
         "rawType": "int64",
         "type": "integer"
        },
        {
         "name": "Europe",
         "rawType": "int64",
         "type": "integer"
        },
        {
         "name": "political.knowledge",
         "rawType": "int64",
         "type": "integer"
        },
        {
         "name": "gender",
         "rawType": "int64",
         "type": "integer"
        }
       ],
       "conversionMethod": "pd.DataFrame",
       "ref": "3468f6da-306b-4f17-bcd8-aeeebf866968",
       "rows": [
        [
         "0",
         "0",
         "43",
         "3",
         "3",
         "4",
         "1",
         "2",
         "2",
         "0"
        ],
        [
         "1",
         "0",
         "36",
         "4",
         "4",
         "4",
         "4",
         "5",
         "2",
         "1"
        ],
        [
         "2",
         "0",
         "35",
         "4",
         "4",
         "5",
         "2",
         "3",
         "2",
         "1"
        ],
        [
         "3",
         "0",
         "24",
         "4",
         "2",
         "2",
         "1",
         "4",
         "0",
         "0"
        ],
        [
         "4",
         "0",
         "41",
         "2",
         "2",
         "1",
         "1",
         "6",
         "2",
         "1"
        ]
       ],
       "shape": {
        "columns": 9,
        "rows": 5
       }
      },
      "text/html": [
       "<div>\n",
       "<style scoped>\n",
       "    .dataframe tbody tr th:only-of-type {\n",
       "        vertical-align: middle;\n",
       "    }\n",
       "\n",
       "    .dataframe tbody tr th {\n",
       "        vertical-align: top;\n",
       "    }\n",
       "\n",
       "    .dataframe thead th {\n",
       "        text-align: right;\n",
       "    }\n",
       "</style>\n",
       "<table border=\"1\" class=\"dataframe\">\n",
       "  <thead>\n",
       "    <tr style=\"text-align: right;\">\n",
       "      <th></th>\n",
       "      <th>vote</th>\n",
       "      <th>age</th>\n",
       "      <th>economic.cond.national</th>\n",
       "      <th>economic.cond.household</th>\n",
       "      <th>Blair</th>\n",
       "      <th>Hague</th>\n",
       "      <th>Europe</th>\n",
       "      <th>political.knowledge</th>\n",
       "      <th>gender</th>\n",
       "    </tr>\n",
       "  </thead>\n",
       "  <tbody>\n",
       "    <tr>\n",
       "      <th>0</th>\n",
       "      <td>0</td>\n",
       "      <td>43</td>\n",
       "      <td>3</td>\n",
       "      <td>3</td>\n",
       "      <td>4</td>\n",
       "      <td>1</td>\n",
       "      <td>2</td>\n",
       "      <td>2</td>\n",
       "      <td>0</td>\n",
       "    </tr>\n",
       "    <tr>\n",
       "      <th>1</th>\n",
       "      <td>0</td>\n",
       "      <td>36</td>\n",
       "      <td>4</td>\n",
       "      <td>4</td>\n",
       "      <td>4</td>\n",
       "      <td>4</td>\n",
       "      <td>5</td>\n",
       "      <td>2</td>\n",
       "      <td>1</td>\n",
       "    </tr>\n",
       "    <tr>\n",
       "      <th>2</th>\n",
       "      <td>0</td>\n",
       "      <td>35</td>\n",
       "      <td>4</td>\n",
       "      <td>4</td>\n",
       "      <td>5</td>\n",
       "      <td>2</td>\n",
       "      <td>3</td>\n",
       "      <td>2</td>\n",
       "      <td>1</td>\n",
       "    </tr>\n",
       "    <tr>\n",
       "      <th>3</th>\n",
       "      <td>0</td>\n",
       "      <td>24</td>\n",
       "      <td>4</td>\n",
       "      <td>2</td>\n",
       "      <td>2</td>\n",
       "      <td>1</td>\n",
       "      <td>4</td>\n",
       "      <td>0</td>\n",
       "      <td>0</td>\n",
       "    </tr>\n",
       "    <tr>\n",
       "      <th>4</th>\n",
       "      <td>0</td>\n",
       "      <td>41</td>\n",
       "      <td>2</td>\n",
       "      <td>2</td>\n",
       "      <td>1</td>\n",
       "      <td>1</td>\n",
       "      <td>6</td>\n",
       "      <td>2</td>\n",
       "      <td>1</td>\n",
       "    </tr>\n",
       "  </tbody>\n",
       "</table>\n",
       "</div>"
      ],
      "text/plain": [
       "   vote  age  economic.cond.national  economic.cond.household  Blair  Hague  \\\n",
       "0     0   43                       3                        3      4      1   \n",
       "1     0   36                       4                        4      4      4   \n",
       "2     0   35                       4                        4      5      2   \n",
       "3     0   24                       4                        2      2      1   \n",
       "4     0   41                       2                        2      1      1   \n",
       "\n",
       "   Europe  political.knowledge  gender  \n",
       "0       2                    2       0  \n",
       "1       5                    2       1  \n",
       "2       3                    2       1  \n",
       "3       4                    0       0  \n",
       "4       6                    2       1  "
      ]
     },
     "execution_count": 17,
     "metadata": {},
     "output_type": "execute_result"
    }
   ],
   "source": [
    "# Convert categorical variables to numerical\n",
    "df[\"vote\"] = df[\"vote\"].map({\"Labour\": 0, \"Conservative\": 1})\n",
    "df[\"gender\"] = df[\"gender\"].map({\"female\": 0, \"male\": 1})\n",
    "\n",
    "# Check the dataset after transformation\n",
    "df.head()\n"
   ]
  },
  {
   "cell_type": "markdown",
   "metadata": {},
   "source": [
    "Step 5: Split the Data into Training and Testing Sets"
   ]
  },
  {
   "cell_type": "code",
   "execution_count": 19,
   "metadata": {},
   "outputs": [
    {
     "name": "stdout",
     "output_type": "stream",
     "text": [
      "Training Data Shape: (1220, 8)\n",
      "Testing Data Shape: (305, 8)\n"
     ]
    }
   ],
   "source": [
    "from sklearn.model_selection import train_test_split\n",
    "\n",
    "# Define features (X) and target (y)\n",
    "X = df.drop(columns=[\"vote\"])  # Independent variables\n",
    "y = df[\"vote\"]  # Dependent variable (target)\n",
    "\n",
    "# Split into training (80%) and testing (20%) sets\n",
    "X_train, X_test, y_train, y_test = train_test_split(X, y, test_size=0.2, random_state=42)\n",
    "\n",
    "# Check the shape of the sets\n",
    "print(\"Training Data Shape:\", X_train.shape)\n",
    "print(\"Testing Data Shape:\", X_test.shape)\n"
   ]
  },
  {
   "cell_type": "markdown",
   "metadata": {},
   "source": [
    "Step 6: Train Classification Models"
   ]
  },
  {
   "cell_type": "markdown",
   "metadata": {},
   "source": [
    " Train a Logistic Regression Model"
   ]
  },
  {
   "cell_type": "code",
   "execution_count": 20,
   "metadata": {},
   "outputs": [
    {
     "name": "stdout",
     "output_type": "stream",
     "text": [
      "Logistic Regression Accuracy: 0.8032786885245902\n",
      "              precision    recall  f1-score   support\n",
      "\n",
      "           0       0.84      0.90      0.87       216\n",
      "           1       0.70      0.57      0.63        89\n",
      "\n",
      "    accuracy                           0.80       305\n",
      "   macro avg       0.77      0.74      0.75       305\n",
      "weighted avg       0.80      0.80      0.80       305\n",
      "\n"
     ]
    },
    {
     "name": "stderr",
     "output_type": "stream",
     "text": [
      "c:\\Users\\rk871\\OneDrive\\Desktop\\Data-Code\\venv\\Lib\\site-packages\\sklearn\\linear_model\\_logistic.py:465: ConvergenceWarning: lbfgs failed to converge (status=1):\n",
      "STOP: TOTAL NO. OF ITERATIONS REACHED LIMIT.\n",
      "\n",
      "Increase the number of iterations (max_iter) or scale the data as shown in:\n",
      "    https://scikit-learn.org/stable/modules/preprocessing.html\n",
      "Please also refer to the documentation for alternative solver options:\n",
      "    https://scikit-learn.org/stable/modules/linear_model.html#logistic-regression\n",
      "  n_iter_i = _check_optimize_result(\n"
     ]
    }
   ],
   "source": [
    "from sklearn.linear_model import LogisticRegression\n",
    "from sklearn.metrics import accuracy_score, classification_report\n",
    "\n",
    "# Initialize and train the model\n",
    "log_reg = LogisticRegression()\n",
    "log_reg.fit(X_train, y_train)\n",
    "\n",
    "# Make predictions\n",
    "y_pred = log_reg.predict(X_test)\n",
    "\n",
    "# Evaluate the model\n",
    "print(\"Logistic Regression Accuracy:\", accuracy_score(y_test, y_pred))\n",
    "print(classification_report(y_test, y_pred))\n"
   ]
  },
  {
   "cell_type": "markdown",
   "metadata": {},
   "source": [
    " Train a Random Forest Model"
   ]
  },
  {
   "cell_type": "code",
   "execution_count": 21,
   "metadata": {},
   "outputs": [
    {
     "name": "stdout",
     "output_type": "stream",
     "text": [
      "Random Forest Accuracy: 0.8032786885245902\n",
      "              precision    recall  f1-score   support\n",
      "\n",
      "           0       0.84      0.89      0.86       216\n",
      "           1       0.69      0.60      0.64        89\n",
      "\n",
      "    accuracy                           0.80       305\n",
      "   macro avg       0.77      0.74      0.75       305\n",
      "weighted avg       0.80      0.80      0.80       305\n",
      "\n"
     ]
    }
   ],
   "source": [
    "from sklearn.ensemble import RandomForestClassifier\n",
    "\n",
    "# Initialize and train the model\n",
    "rf = RandomForestClassifier(n_estimators=100, random_state=42)\n",
    "rf.fit(X_train, y_train)\n",
    "\n",
    "# Make predictions\n",
    "y_pred_rf = rf.predict(X_test)\n",
    "\n",
    "# Evaluate the model\n",
    "print(\"Random Forest Accuracy:\", accuracy_score(y_test, y_pred_rf))\n",
    "print(classification_report(y_test, y_pred_rf))\n"
   ]
  },
  {
   "cell_type": "markdown",
   "metadata": {},
   "source": [
    "Train an XGBoost Model"
   ]
  },
  {
   "cell_type": "code",
   "execution_count": 23,
   "metadata": {},
   "outputs": [
    {
     "name": "stderr",
     "output_type": "stream",
     "text": [
      "c:\\Users\\rk871\\OneDrive\\Desktop\\Data-Code\\venv\\Lib\\site-packages\\xgboost\\core.py:158: UserWarning: [18:34:01] WARNING: C:\\buildkite-agent\\builds\\buildkite-windows-cpu-autoscaling-group-i-08cbc0333d8d4aae1-1\\xgboost\\xgboost-ci-windows\\src\\learner.cc:740: \n",
      "Parameters: { \"use_label_encoder\" } are not used.\n",
      "\n",
      "  warnings.warn(smsg, UserWarning)\n"
     ]
    },
    {
     "name": "stdout",
     "output_type": "stream",
     "text": [
      "XGBoost Accuracy: 0.7901639344262295\n",
      "              precision    recall  f1-score   support\n",
      "\n",
      "           0       0.85      0.86      0.85       216\n",
      "           1       0.64      0.63      0.64        89\n",
      "\n",
      "    accuracy                           0.79       305\n",
      "   macro avg       0.75      0.74      0.74       305\n",
      "weighted avg       0.79      0.79      0.79       305\n",
      "\n"
     ]
    }
   ],
   "source": [
    "from xgboost import XGBClassifier\n",
    "\n",
    "# Initialize and train the model\n",
    "xgb = XGBClassifier(use_label_encoder=False, eval_metric=\"logloss\")\n",
    "xgb.fit(X_train, y_train)\n",
    "\n",
    "# Make predictions\n",
    "y_pred_xgb = xgb.predict(X_test)\n",
    "\n",
    "# Evaluate the model\n",
    "print(\"XGBoost Accuracy:\", accuracy_score(y_test, y_pred_xgb))\n",
    "print(classification_report(y_test, y_pred_xgb))\n"
   ]
  },
  {
   "cell_type": "markdown",
   "metadata": {},
   "source": [
    "Step 7: Compare Models and Select the Best One"
   ]
  },
  {
   "cell_type": "code",
   "execution_count": 24,
   "metadata": {},
   "outputs": [
    {
     "name": "stdout",
     "output_type": "stream",
     "text": [
      "Logistic Regression: 0.8033\n",
      "Random Forest: 0.8033\n",
      "XGBoost: 0.7902\n"
     ]
    }
   ],
   "source": [
    "# Store model accuracies\n",
    "model_accuracies = {\n",
    "    \"Logistic Regression\": accuracy_score(y_test, y_pred),\n",
    "    \"Random Forest\": accuracy_score(y_test, y_pred_rf),\n",
    "    \"XGBoost\": accuracy_score(y_test, y_pred_xgb),\n",
    "}\n",
    "\n",
    "# Print model comparison\n",
    "for model, accuracy in model_accuracies.items():\n",
    "    print(f\"{model}: {accuracy:.4f}\")\n"
   ]
  },
  {
   "cell_type": "markdown",
   "metadata": {},
   "source": [
    " Step 8: Interpret Insights & Write a Business Report"
   ]
  },
  {
   "cell_type": "code",
   "execution_count": 25,
   "metadata": {},
   "outputs": [
    {
     "data": {
      "image/png": "[encoded data removed]",
      "text/plain": [
       "<Figure size 1000x600 with 1 Axes>"
      ]
     },
     "metadata": {},
     "output_type": "display_data"
    }
   ],
   "source": [
    "importances = rf.feature_importances_\n",
    "feature_importance = pd.DataFrame({'Feature': X.columns, 'Importance': importances})\n",
    "feature_importance = feature_importance.sort_values(by='Importance', ascending=False)\n",
    "\n",
    "# Plot Feature Importance\n",
    "plt.figure(figsize=(10,6))\n",
    "sns.barplot(x=feature_importance['Importance'], y=feature_importance['Feature'])\n",
    "plt.title(\"Feature Importance (Random Forest)\")\n",
    "plt.show()\n"
   ]
  },
  {
   "cell_type": "markdown",
   "metadata": {},
   "source": [
    " Step 9: Save and Export the Best Model"
   ]
  },
  {
   "cell_type": "code",
   "execution_count": 27,
   "metadata": {},
   "outputs": [
    {
     "name": "stdout",
     "output_type": "stream",
     "text": [
      "[0 0 0 0 0 1 0 1 0 0 0 0 1 0 0 0 0 0 0 0 1 1 0 0 0 0 1 0 0 0 1 0 0 1 0 0 0\n",
      " 1 1 0 0 0 1 0 0 0 0 1 0 0 0 0 0 0 1 0 0 0 0 1 0 0 1 0 0 0 0 1 0 0 0 0 0 0\n",
      " 0 1 1 0 0 0 0 0 0 0 0 1 1 0 0 0 1 0 0 0 1 1 0 0 0 0 0 1 0 1 0 1 1 1 1 0 0\n",
      " 1 0 1 0 0 0 0 0 0 0 0 0 0 0 1 0 1 0 1 0 1 0 0 1 0 0 0 0 0 0 0 0 0 0 0 1 0\n",
      " 0 1 0 0 0 1 1 0 0 0 0 1 0 0 0 0 0 0 0 0 0 1 0 0 0 0 1 0 0 0 0 0 0 0 0 1 0\n",
      " 0 0 0 1 0 1 0 1 0 0 1 0 0 0 0 0 0 0 0 0 0 0 1 0 0 0 0 1 0 0 1 0 0 1 1 0 0\n",
      " 0 0 1 0 1 0 1 1 0 1 1 1 1 0 0 0 0 0 0 0 0 0 0 0 0 0 0 0 0 0 1 1 0 0 0 0 0\n",
      " 1 0 0 1 0 0 0 0 1 0 0 1 0 1 1 1 0 0 0 0 0 0 1 0 0 1 0 1 0 1 0 1 0 0 1 0 0\n",
      " 0 0 1 0 0 0 0 0 0]\n"
     ]
    }
   ],
   "source": [
    "import joblib\n",
    "\n",
    "# Save the trained Random Forest model\n",
    "joblib.dump(rf, \"voting_prediction_model.pkl\")\n",
    "\n",
    "# Load the saved model\n",
    "loaded_model = joblib.load(\"voting_prediction_model.pkl\")\n",
    "\n",
    "# Make new predictions\n",
    "new_predictions = loaded_model.predict(X_test)\n",
    "\n",
    "# Print the predictions\n",
    "print(new_predictions)\n"
   ]
  },
  {
   "cell_type": "code",
   "execution_count": null,
   "metadata": {},
   "outputs": [],
   "source": []
  },
  {
   "cell_type": "code",
   "execution_count": null,
   "metadata": {},
   "outputs": [],
   "source": []
  },
  {
   "cell_type": "code",
   "execution_count": null,
   "metadata": {},
   "outputs": [],
   "source": []
  },
  {
   "cell_type": "code",
   "execution_count": null,
   "metadata": {},
   "outputs": [],
   "source": []
  }
 ],
 "metadata": {
  "kernelspec": {
   "display_name": "venv",
   "language": "python",
   "name": "python3"
  },
  "language_info": {
   "codemirror_mode": {
    "name": "ipython",
    "version": 3
   },
   "file_extension": ".py",
   "mimetype": "text/x-python",
   "name": "python",
   "nbconvert_exporter": "python",
   "pygments_lexer": "ipython3",
   "version": "3.12.7"
  }
 },
 "nbformat": 4,
 "nbformat_minor": 2
}
