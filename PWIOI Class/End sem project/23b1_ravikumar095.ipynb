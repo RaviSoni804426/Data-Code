{
 "cells": [
  {
   "cell_type": "code",
   "execution_count": 2,
   "metadata": {},
   "outputs": [],
   "source": [
    "# Import necessary libraries\n",
    "import pandas as pd\n",
    "import numpy as np\n",
    "import seaborn as sns\n",
    "import matplotlib.pyplot as plt\n",
    "from sklearn.model_selection import train_test_split\n",
    "from sklearn.preprocessing import LabelEncoder\n",
    "from sklearn.linear_model import LogisticRegression\n",
    "from sklearn.tree import DecisionTreeClassifier\n",
    "from sklearn.ensemble import RandomForestClassifier\n",
    "from sklearn.svm import SVC\n",
    "from sklearn.neighbors import KNeighborsClassifier\n",
    "from xgboost import XGBClassifier\n",
    "from sklearn.metrics import accuracy_score, precision_score, recall_score, f1_score, confusion_matrix, classification_report"
   ]
  },
  {
   "cell_type": "markdown",
   "metadata": {},
   "source": [
    "Step 1: Load and Inspect the Dataset"
   ]
  },
  {
   "cell_type": "code",
   "execution_count": 3,
   "metadata": {},
   "outputs": [],
   "source": [
    "df=pd.read_excel('Election_Data.xlsx')"
   ]
  },
  {
   "cell_type": "code",
   "execution_count": 4,
   "metadata": {},
   "outputs": [
    {
     "data": {
      "application/vnd.microsoft.datawrangler.viewer.v0+json": {
       "columns": [
        {
         "name": "index",
         "rawType": "int64",
         "type": "integer"
        },
        {
         "name": "Unnamed: 0",
         "rawType": "int64",
         "type": "integer"
        },
        {
         "name": "vote",
         "rawType": "object",
         "type": "string"
        },
        {
         "name": "age",
         "rawType": "int64",
         "type": "integer"
        },
        {
         "name": "economic.cond.national",
         "rawType": "int64",
         "type": "integer"
        },
        {
         "name": "economic.cond.household",
         "rawType": "int64",
         "type": "integer"
        },
        {
         "name": "Blair",
         "rawType": "int64",
         "type": "integer"
        },
        {
         "name": "Hague",
         "rawType": "int64",
         "type": "integer"
        },
        {
         "name": "Europe",
         "rawType": "int64",
         "type": "integer"
        },
        {
         "name": "political.knowledge",
         "rawType": "int64",
         "type": "integer"
        },
        {
         "name": "gender",
         "rawType": "object",
         "type": "string"
        }
       ],
       "conversionMethod": "pd.DataFrame",
       "ref": "b900bdd8-5451-4336-b552-ff7c3607ed05",
       "rows": [
        [
         "0",
         "1",
         "Labour",
         "43",
         "3",
         "3",
         "4",
         "1",
         "2",
         "2",
         "female"
        ],
        [
         "1",
         "2",
         "Labour",
         "36",
         "4",
         "4",
         "4",
         "4",
         "5",
         "2",
         "male"
        ],
        [
         "2",
         "3",
         "Labour",
         "35",
         "4",
         "4",
         "5",
         "2",
         "3",
         "2",
         "male"
        ],
        [
         "3",
         "4",
         "Labour",
         "24",
         "4",
         "2",
         "2",
         "1",
         "4",
         "0",
         "female"
        ],
        [
         "4",
         "5",
         "Labour",
         "41",
         "2",
         "2",
         "1",
         "1",
         "6",
         "2",
         "male"
        ]
       ],
       "shape": {
        "columns": 10,
        "rows": 5
       }
      },
      "text/html": [
       "<div>\n",
       "<style scoped>\n",
       "    .dataframe tbody tr th:only-of-type {\n",
       "        vertical-align: middle;\n",
       "    }\n",
       "\n",
       "    .dataframe tbody tr th {\n",
       "        vertical-align: top;\n",
       "    }\n",
       "\n",
       "    .dataframe thead th {\n",
       "        text-align: right;\n",
       "    }\n",
       "</style>\n",
       "<table border=\"1\" class=\"dataframe\">\n",
       "  <thead>\n",
       "    <tr style=\"text-align: right;\">\n",
       "      <th></th>\n",
       "      <th>Unnamed: 0</th>\n",
       "      <th>vote</th>\n",
       "      <th>age</th>\n",
       "      <th>economic.cond.national</th>\n",
       "      <th>economic.cond.household</th>\n",
       "      <th>Blair</th>\n",
       "      <th>Hague</th>\n",
       "      <th>Europe</th>\n",
       "      <th>political.knowledge</th>\n",
       "      <th>gender</th>\n",
       "    </tr>\n",
       "  </thead>\n",
       "  <tbody>\n",
       "    <tr>\n",
       "      <th>0</th>\n",
       "      <td>1</td>\n",
       "      <td>Labour</td>\n",
       "      <td>43</td>\n",
       "      <td>3</td>\n",
       "      <td>3</td>\n",
       "      <td>4</td>\n",
       "      <td>1</td>\n",
       "      <td>2</td>\n",
       "      <td>2</td>\n",
       "      <td>female</td>\n",
       "    </tr>\n",
       "    <tr>\n",
       "      <th>1</th>\n",
       "      <td>2</td>\n",
       "      <td>Labour</td>\n",
       "      <td>36</td>\n",
       "      <td>4</td>\n",
       "      <td>4</td>\n",
       "      <td>4</td>\n",
       "      <td>4</td>\n",
       "      <td>5</td>\n",
       "      <td>2</td>\n",
       "      <td>male</td>\n",
       "    </tr>\n",
       "    <tr>\n",
       "      <th>2</th>\n",
       "      <td>3</td>\n",
       "      <td>Labour</td>\n",
       "      <td>35</td>\n",
       "      <td>4</td>\n",
       "      <td>4</td>\n",
       "      <td>5</td>\n",
       "      <td>2</td>\n",
       "      <td>3</td>\n",
       "      <td>2</td>\n",
       "      <td>male</td>\n",
       "    </tr>\n",
       "    <tr>\n",
       "      <th>3</th>\n",
       "      <td>4</td>\n",
       "      <td>Labour</td>\n",
       "      <td>24</td>\n",
       "      <td>4</td>\n",
       "      <td>2</td>\n",
       "      <td>2</td>\n",
       "      <td>1</td>\n",
       "      <td>4</td>\n",
       "      <td>0</td>\n",
       "      <td>female</td>\n",
       "    </tr>\n",
       "    <tr>\n",
       "      <th>4</th>\n",
       "      <td>5</td>\n",
       "      <td>Labour</td>\n",
       "      <td>41</td>\n",
       "      <td>2</td>\n",
       "      <td>2</td>\n",
       "      <td>1</td>\n",
       "      <td>1</td>\n",
       "      <td>6</td>\n",
       "      <td>2</td>\n",
       "      <td>male</td>\n",
       "    </tr>\n",
       "  </tbody>\n",
       "</table>\n",
       "</div>"
      ],
      "text/plain": [
       "   Unnamed: 0    vote  age  economic.cond.national  economic.cond.household  \\\n",
       "0           1  Labour   43                       3                        3   \n",
       "1           2  Labour   36                       4                        4   \n",
       "2           3  Labour   35                       4                        4   \n",
       "3           4  Labour   24                       4                        2   \n",
       "4           5  Labour   41                       2                        2   \n",
       "\n",
       "   Blair  Hague  Europe  political.knowledge  gender  \n",
       "0      4      1       2                    2  female  \n",
       "1      4      4       5                    2    male  \n",
       "2      5      2       3                    2    male  \n",
       "3      2      1       4                    0  female  \n",
       "4      1      1       6                    2    male  "
      ]
     },
     "execution_count": 4,
     "metadata": {},
     "output_type": "execute_result"
    }
   ],
   "source": [
    "df.head()"
   ]
  },
  {
   "cell_type": "code",
   "execution_count": 5,
   "metadata": {},
   "outputs": [],
   "source": [
    "df.drop(columns=['Unnamed: 0'], inplace=True)"
   ]
  },
  {
   "cell_type": "code",
   "execution_count": 6,
   "metadata": {},
   "outputs": [
    {
     "data": {
      "application/vnd.microsoft.datawrangler.viewer.v0+json": {
       "columns": [
        {
         "name": "index",
         "rawType": "int64",
         "type": "integer"
        },
        {
         "name": "vote",
         "rawType": "object",
         "type": "string"
        },
        {
         "name": "age",
         "rawType": "int64",
         "type": "integer"
        },
        {
         "name": "economic.cond.national",
         "rawType": "int64",
         "type": "integer"
        },
        {
         "name": "economic.cond.household",
         "rawType": "int64",
         "type": "integer"
        },
        {
         "name": "Blair",
         "rawType": "int64",
         "type": "integer"
        },
        {
         "name": "Hague",
         "rawType": "int64",
         "type": "integer"
        },
        {
         "name": "Europe",
         "rawType": "int64",
         "type": "integer"
        },
        {
         "name": "political.knowledge",
         "rawType": "int64",
         "type": "integer"
        },
        {
         "name": "gender",
         "rawType": "object",
         "type": "string"
        }
       ],
       "conversionMethod": "pd.DataFrame",
       "ref": "355f5247-2f77-46d8-b11c-cb3ff5ef3b7d",
       "rows": [
        [
         "0",
         "Labour",
         "43",
         "3",
         "3",
         "4",
         "1",
         "2",
         "2",
         "female"
        ],
        [
         "1",
         "Labour",
         "36",
         "4",
         "4",
         "4",
         "4",
         "5",
         "2",
         "male"
        ],
        [
         "2",
         "Labour",
         "35",
         "4",
         "4",
         "5",
         "2",
         "3",
         "2",
         "male"
        ],
        [
         "3",
         "Labour",
         "24",
         "4",
         "2",
         "2",
         "1",
         "4",
         "0",
         "female"
        ],
        [
         "4",
         "Labour",
         "41",
         "2",
         "2",
         "1",
         "1",
         "6",
         "2",
         "male"
        ]
       ],
       "shape": {
        "columns": 9,
        "rows": 5
       }
      },
      "text/html": [
       "<div>\n",
       "<style scoped>\n",
       "    .dataframe tbody tr th:only-of-type {\n",
       "        vertical-align: middle;\n",
       "    }\n",
       "\n",
       "    .dataframe tbody tr th {\n",
       "        vertical-align: top;\n",
       "    }\n",
       "\n",
       "    .dataframe thead th {\n",
       "        text-align: right;\n",
       "    }\n",
       "</style>\n",
       "<table border=\"1\" class=\"dataframe\">\n",
       "  <thead>\n",
       "    <tr style=\"text-align: right;\">\n",
       "      <th></th>\n",
       "      <th>vote</th>\n",
       "      <th>age</th>\n",
       "      <th>economic.cond.national</th>\n",
       "      <th>economic.cond.household</th>\n",
       "      <th>Blair</th>\n",
       "      <th>Hague</th>\n",
       "      <th>Europe</th>\n",
       "      <th>political.knowledge</th>\n",
       "      <th>gender</th>\n",
       "    </tr>\n",
       "  </thead>\n",
       "  <tbody>\n",
       "    <tr>\n",
       "      <th>0</th>\n",
       "      <td>Labour</td>\n",
       "      <td>43</td>\n",
       "      <td>3</td>\n",
       "      <td>3</td>\n",
       "      <td>4</td>\n",
       "      <td>1</td>\n",
       "      <td>2</td>\n",
       "      <td>2</td>\n",
       "      <td>female</td>\n",
       "    </tr>\n",
       "    <tr>\n",
       "      <th>1</th>\n",
       "      <td>Labour</td>\n",
       "      <td>36</td>\n",
       "      <td>4</td>\n",
       "      <td>4</td>\n",
       "      <td>4</td>\n",
       "      <td>4</td>\n",
       "      <td>5</td>\n",
       "      <td>2</td>\n",
       "      <td>male</td>\n",
       "    </tr>\n",
       "    <tr>\n",
       "      <th>2</th>\n",
       "      <td>Labour</td>\n",
       "      <td>35</td>\n",
       "      <td>4</td>\n",
       "      <td>4</td>\n",
       "      <td>5</td>\n",
       "      <td>2</td>\n",
       "      <td>3</td>\n",
       "      <td>2</td>\n",
       "      <td>male</td>\n",
       "    </tr>\n",
       "    <tr>\n",
       "      <th>3</th>\n",
       "      <td>Labour</td>\n",
       "      <td>24</td>\n",
       "      <td>4</td>\n",
       "      <td>2</td>\n",
       "      <td>2</td>\n",
       "      <td>1</td>\n",
       "      <td>4</td>\n",
       "      <td>0</td>\n",
       "      <td>female</td>\n",
       "    </tr>\n",
       "    <tr>\n",
       "      <th>4</th>\n",
       "      <td>Labour</td>\n",
       "      <td>41</td>\n",
       "      <td>2</td>\n",
       "      <td>2</td>\n",
       "      <td>1</td>\n",
       "      <td>1</td>\n",
       "      <td>6</td>\n",
       "      <td>2</td>\n",
       "      <td>male</td>\n",
       "    </tr>\n",
       "  </tbody>\n",
       "</table>\n",
       "</div>"
      ],
      "text/plain": [
       "     vote  age  economic.cond.national  economic.cond.household  Blair  Hague  \\\n",
       "0  Labour   43                       3                        3      4      1   \n",
       "1  Labour   36                       4                        4      4      4   \n",
       "2  Labour   35                       4                        4      5      2   \n",
       "3  Labour   24                       4                        2      2      1   \n",
       "4  Labour   41                       2                        2      1      1   \n",
       "\n",
       "   Europe  political.knowledge  gender  \n",
       "0       2                    2  female  \n",
       "1       5                    2    male  \n",
       "2       3                    2    male  \n",
       "3       4                    0  female  \n",
       "4       6                    2    male  "
      ]
     },
     "execution_count": 6,
     "metadata": {},
     "output_type": "execute_result"
    }
   ],
   "source": [
    "df.head()"
   ]
  },
  {
   "cell_type": "markdown",
   "metadata": {},
   "source": [
    " Step 2: Check for Missing Values and Data Types"
   ]
  },
  {
   "cell_type": "code",
   "execution_count": 7,
   "metadata": {},
   "outputs": [
    {
     "name": "stdout",
     "output_type": "stream",
     "text": [
      "vote                       0\n",
      "age                        0\n",
      "economic.cond.national     0\n",
      "economic.cond.household    0\n",
      "Blair                      0\n",
      "Hague                      0\n",
      "Europe                     0\n",
      "political.knowledge        0\n",
      "gender                     0\n",
      "dtype: int64\n"
     ]
    }
   ],
   "source": [
    "print(df.isnull().sum())"
   ]
  },
  {
   "cell_type": "code",
   "execution_count": 8,
   "metadata": {},
   "outputs": [
    {
     "name": "stdout",
     "output_type": "stream",
     "text": [
      "vote                       object\n",
      "age                         int64\n",
      "economic.cond.national      int64\n",
      "economic.cond.household     int64\n",
      "Blair                       int64\n",
      "Hague                       int64\n",
      "Europe                      int64\n",
      "political.knowledge         int64\n",
      "gender                     object\n",
      "dtype: object\n"
     ]
    }
   ],
   "source": [
    "print(df.dtypes)"
   ]
  },
  {
   "cell_type": "code",
   "execution_count": 9,
   "metadata": {},
   "outputs": [],
   "source": [
    "# Convert categorical variables to numerical\n",
    "df[\"vote\"] = df[\"vote\"].map({\"Labour\": 0, \"Conservative\": 1})\n",
    "df[\"gender\"] = df[\"gender\"].map({\"female\": 0, \"male\": 1})"
   ]
  },
  {
   "cell_type": "code",
   "execution_count": 10,
   "metadata": {},
   "outputs": [
    {
     "data": {
      "application/vnd.microsoft.datawrangler.viewer.v0+json": {
       "columns": [
        {
         "name": "index",
         "rawType": "int64",
         "type": "integer"
        },
        {
         "name": "vote",
         "rawType": "int64",
         "type": "integer"
        },
        {
         "name": "age",
         "rawType": "int64",
         "type": "integer"
        },
        {
         "name": "economic.cond.national",
         "rawType": "int64",
         "type": "integer"
        },
        {
         "name": "economic.cond.household",
         "rawType": "int64",
         "type": "integer"
        },
        {
         "name": "Blair",
         "rawType": "int64",
         "type": "integer"
        },
        {
         "name": "Hague",
         "rawType": "int64",
         "type": "integer"
        },
        {
         "name": "Europe",
         "rawType": "int64",
         "type": "integer"
        },
        {
         "name": "political.knowledge",
         "rawType": "int64",
         "type": "integer"
        },
        {
         "name": "gender",
         "rawType": "int64",
         "type": "integer"
        }
       ],
       "conversionMethod": "pd.DataFrame",
       "ref": "a560853e-ce6b-4a74-b9dd-467b4108eb5a",
       "rows": [
        [
         "0",
         "0",
         "43",
         "3",
         "3",
         "4",
         "1",
         "2",
         "2",
         "0"
        ],
        [
         "1",
         "0",
         "36",
         "4",
         "4",
         "4",
         "4",
         "5",
         "2",
         "1"
        ],
        [
         "2",
         "0",
         "35",
         "4",
         "4",
         "5",
         "2",
         "3",
         "2",
         "1"
        ],
        [
         "3",
         "0",
         "24",
         "4",
         "2",
         "2",
         "1",
         "4",
         "0",
         "0"
        ],
        [
         "4",
         "0",
         "41",
         "2",
         "2",
         "1",
         "1",
         "6",
         "2",
         "1"
        ]
       ],
       "shape": {
        "columns": 9,
        "rows": 5
       }
      },
      "text/html": [
       "<div>\n",
       "<style scoped>\n",
       "    .dataframe tbody tr th:only-of-type {\n",
       "        vertical-align: middle;\n",
       "    }\n",
       "\n",
       "    .dataframe tbody tr th {\n",
       "        vertical-align: top;\n",
       "    }\n",
       "\n",
       "    .dataframe thead th {\n",
       "        text-align: right;\n",
       "    }\n",
       "</style>\n",
       "<table border=\"1\" class=\"dataframe\">\n",
       "  <thead>\n",
       "    <tr style=\"text-align: right;\">\n",
       "      <th></th>\n",
       "      <th>vote</th>\n",
       "      <th>age</th>\n",
       "      <th>economic.cond.national</th>\n",
       "      <th>economic.cond.household</th>\n",
       "      <th>Blair</th>\n",
       "      <th>Hague</th>\n",
       "      <th>Europe</th>\n",
       "      <th>political.knowledge</th>\n",
       "      <th>gender</th>\n",
       "    </tr>\n",
       "  </thead>\n",
       "  <tbody>\n",
       "    <tr>\n",
       "      <th>0</th>\n",
       "      <td>0</td>\n",
       "      <td>43</td>\n",
       "      <td>3</td>\n",
       "      <td>3</td>\n",
       "      <td>4</td>\n",
       "      <td>1</td>\n",
       "      <td>2</td>\n",
       "      <td>2</td>\n",
       "      <td>0</td>\n",
       "    </tr>\n",
       "    <tr>\n",
       "      <th>1</th>\n",
       "      <td>0</td>\n",
       "      <td>36</td>\n",
       "      <td>4</td>\n",
       "      <td>4</td>\n",
       "      <td>4</td>\n",
       "      <td>4</td>\n",
       "      <td>5</td>\n",
       "      <td>2</td>\n",
       "      <td>1</td>\n",
       "    </tr>\n",
       "    <tr>\n",
       "      <th>2</th>\n",
       "      <td>0</td>\n",
       "      <td>35</td>\n",
       "      <td>4</td>\n",
       "      <td>4</td>\n",
       "      <td>5</td>\n",
       "      <td>2</td>\n",
       "      <td>3</td>\n",
       "      <td>2</td>\n",
       "      <td>1</td>\n",
       "    </tr>\n",
       "    <tr>\n",
       "      <th>3</th>\n",
       "      <td>0</td>\n",
       "      <td>24</td>\n",
       "      <td>4</td>\n",
       "      <td>2</td>\n",
       "      <td>2</td>\n",
       "      <td>1</td>\n",
       "      <td>4</td>\n",
       "      <td>0</td>\n",
       "      <td>0</td>\n",
       "    </tr>\n",
       "    <tr>\n",
       "      <th>4</th>\n",
       "      <td>0</td>\n",
       "      <td>41</td>\n",
       "      <td>2</td>\n",
       "      <td>2</td>\n",
       "      <td>1</td>\n",
       "      <td>1</td>\n",
       "      <td>6</td>\n",
       "      <td>2</td>\n",
       "      <td>1</td>\n",
       "    </tr>\n",
       "  </tbody>\n",
       "</table>\n",
       "</div>"
      ],
      "text/plain": [
       "   vote  age  economic.cond.national  economic.cond.household  Blair  Hague  \\\n",
       "0     0   43                       3                        3      4      1   \n",
       "1     0   36                       4                        4      4      4   \n",
       "2     0   35                       4                        4      5      2   \n",
       "3     0   24                       4                        2      2      1   \n",
       "4     0   41                       2                        2      1      1   \n",
       "\n",
       "   Europe  political.knowledge  gender  \n",
       "0       2                    2       0  \n",
       "1       5                    2       1  \n",
       "2       3                    2       1  \n",
       "3       4                    0       0  \n",
       "4       6                    2       1  "
      ]
     },
     "execution_count": 10,
     "metadata": {},
     "output_type": "execute_result"
    }
   ],
   "source": [
    "df.head()"
   ]
  },
  {
   "cell_type": "markdown",
   "metadata": {},
   "source": [
    "Insights from Data Ingestion & Preprocessing\n",
    "\n",
    "    No missing values in any column .\n",
    "    Columns vote and gender are categorical, while others are numerical.\n",
    "Age distribution:\n",
    "\n",
    "  Mean age: 54.18 years.\n",
    "  Min: 24, Max: 93.\n",
    "  \n",
    "Economic conditions and political opinions are measured on a Likert scale (1-5 or higher for Europe).\n",
    "Blair, Hague, and Europe variables reflect opinions about leaders or policies."
   ]
  },
  {
   "cell_type": "markdown",
   "metadata": {},
   "source": [
    "Step 3: Exploratory Data Analysis (EDA)"
   ]
  },
  {
   "cell_type": "markdown",
   "metadata": {},
   "source": [
    "📌 Statistical Summary"
   ]
  },
  {
   "cell_type": "code",
   "execution_count": 12,
   "metadata": {},
   "outputs": [
    {
     "data": {
      "application/vnd.microsoft.datawrangler.viewer.v0+json": {
       "columns": [
        {
         "name": "index",
         "rawType": "object",
         "type": "string"
        },
        {
         "name": "count",
         "rawType": "float64",
         "type": "float"
        },
        {
         "name": "mean",
         "rawType": "float64",
         "type": "float"
        },
        {
         "name": "std",
         "rawType": "float64",
         "type": "float"
        },
        {
         "name": "min",
         "rawType": "float64",
         "type": "float"
        },
        {
         "name": "25%",
         "rawType": "float64",
         "type": "float"
        },
        {
         "name": "50%",
         "rawType": "float64",
         "type": "float"
        },
        {
         "name": "75%",
         "rawType": "float64",
         "type": "float"
        },
        {
         "name": "max",
         "rawType": "float64",
         "type": "float"
        }
       ],
       "conversionMethod": "pd.DataFrame",
       "ref": "ec8831ae-7200-49c1-9574-cb85d1fcece1",
       "rows": [
        [
         "vote",
         "1525.0",
         "0.30295081967213117",
         "0.4596848753087079",
         "0.0",
         "0.0",
         "0.0",
         "1.0",
         "1.0"
        ],
        [
         "age",
         "1525.0",
         "54.18229508196721",
         "15.711208571641961",
         "24.0",
         "41.0",
         "53.0",
         "67.0",
         "93.0"
        ],
        [
         "economic.cond.national",
         "1525.0",
         "3.2459016393442623",
         "0.8809692844149635",
         "1.0",
         "3.0",
         "3.0",
         "4.0",
         "5.0"
        ],
        [
         "economic.cond.household",
         "1525.0",
         "3.140327868852459",
         "0.9299513985782095",
         "1.0",
         "3.0",
         "3.0",
         "4.0",
         "5.0"
        ],
        [
         "Blair",
         "1525.0",
         "3.3344262295081966",
         "1.1748241123034628",
         "1.0",
         "2.0",
         "4.0",
         "4.0",
         "5.0"
        ],
        [
         "Hague",
         "1525.0",
         "2.7468852459016393",
         "1.2307034736168019",
         "1.0",
         "2.0",
         "2.0",
         "4.0",
         "5.0"
        ],
        [
         "Europe",
         "1525.0",
         "6.728524590163935",
         "3.2975383704631973",
         "1.0",
         "4.0",
         "6.0",
         "10.0",
         "11.0"
        ],
        [
         "political.knowledge",
         "1525.0",
         "1.5422950819672132",
         "1.0833147486432684",
         "0.0",
         "0.0",
         "2.0",
         "2.0",
         "3.0"
        ],
        [
         "gender",
         "1525.0",
         "0.4675409836065574",
         "0.4991089689827056",
         "0.0",
         "0.0",
         "0.0",
         "1.0",
         "1.0"
        ]
       ],
       "shape": {
        "columns": 8,
        "rows": 9
       }
      },
      "text/html": [
       "<div>\n",
       "<style scoped>\n",
       "    .dataframe tbody tr th:only-of-type {\n",
       "        vertical-align: middle;\n",
       "    }\n",
       "\n",
       "    .dataframe tbody tr th {\n",
       "        vertical-align: top;\n",
       "    }\n",
       "\n",
       "    .dataframe thead th {\n",
       "        text-align: right;\n",
       "    }\n",
       "</style>\n",
       "<table border=\"1\" class=\"dataframe\">\n",
       "  <thead>\n",
       "    <tr style=\"text-align: right;\">\n",
       "      <th></th>\n",
       "      <th>count</th>\n",
       "      <th>mean</th>\n",
       "      <th>std</th>\n",
       "      <th>min</th>\n",
       "      <th>25%</th>\n",
       "      <th>50%</th>\n",
       "      <th>75%</th>\n",
       "      <th>max</th>\n",
       "    </tr>\n",
       "  </thead>\n",
       "  <tbody>\n",
       "    <tr>\n",
       "      <th>vote</th>\n",
       "      <td>1525.0</td>\n",
       "      <td>0.302951</td>\n",
       "      <td>0.459685</td>\n",
       "      <td>0.0</td>\n",
       "      <td>0.0</td>\n",
       "      <td>0.0</td>\n",
       "      <td>1.0</td>\n",
       "      <td>1.0</td>\n",
       "    </tr>\n",
       "    <tr>\n",
       "      <th>age</th>\n",
       "      <td>1525.0</td>\n",
       "      <td>54.182295</td>\n",
       "      <td>15.711209</td>\n",
       "      <td>24.0</td>\n",
       "      <td>41.0</td>\n",
       "      <td>53.0</td>\n",
       "      <td>67.0</td>\n",
       "      <td>93.0</td>\n",
       "    </tr>\n",
       "    <tr>\n",
       "      <th>economic.cond.national</th>\n",
       "      <td>1525.0</td>\n",
       "      <td>3.245902</td>\n",
       "      <td>0.880969</td>\n",
       "      <td>1.0</td>\n",
       "      <td>3.0</td>\n",
       "      <td>3.0</td>\n",
       "      <td>4.0</td>\n",
       "      <td>5.0</td>\n",
       "    </tr>\n",
       "    <tr>\n",
       "      <th>economic.cond.household</th>\n",
       "      <td>1525.0</td>\n",
       "      <td>3.140328</td>\n",
       "      <td>0.929951</td>\n",
       "      <td>1.0</td>\n",
       "      <td>3.0</td>\n",
       "      <td>3.0</td>\n",
       "      <td>4.0</td>\n",
       "      <td>5.0</td>\n",
       "    </tr>\n",
       "    <tr>\n",
       "      <th>Blair</th>\n",
       "      <td>1525.0</td>\n",
       "      <td>3.334426</td>\n",
       "      <td>1.174824</td>\n",
       "      <td>1.0</td>\n",
       "      <td>2.0</td>\n",
       "      <td>4.0</td>\n",
       "      <td>4.0</td>\n",
       "      <td>5.0</td>\n",
       "    </tr>\n",
       "    <tr>\n",
       "      <th>Hague</th>\n",
       "      <td>1525.0</td>\n",
       "      <td>2.746885</td>\n",
       "      <td>1.230703</td>\n",
       "      <td>1.0</td>\n",
       "      <td>2.0</td>\n",
       "      <td>2.0</td>\n",
       "      <td>4.0</td>\n",
       "      <td>5.0</td>\n",
       "    </tr>\n",
       "    <tr>\n",
       "      <th>Europe</th>\n",
       "      <td>1525.0</td>\n",
       "      <td>6.728525</td>\n",
       "      <td>3.297538</td>\n",
       "      <td>1.0</td>\n",
       "      <td>4.0</td>\n",
       "      <td>6.0</td>\n",
       "      <td>10.0</td>\n",
       "      <td>11.0</td>\n",
       "    </tr>\n",
       "    <tr>\n",
       "      <th>political.knowledge</th>\n",
       "      <td>1525.0</td>\n",
       "      <td>1.542295</td>\n",
       "      <td>1.083315</td>\n",
       "      <td>0.0</td>\n",
       "      <td>0.0</td>\n",
       "      <td>2.0</td>\n",
       "      <td>2.0</td>\n",
       "      <td>3.0</td>\n",
       "    </tr>\n",
       "    <tr>\n",
       "      <th>gender</th>\n",
       "      <td>1525.0</td>\n",
       "      <td>0.467541</td>\n",
       "      <td>0.499109</td>\n",
       "      <td>0.0</td>\n",
       "      <td>0.0</td>\n",
       "      <td>0.0</td>\n",
       "      <td>1.0</td>\n",
       "      <td>1.0</td>\n",
       "    </tr>\n",
       "  </tbody>\n",
       "</table>\n",
       "</div>"
      ],
      "text/plain": [
       "                          count       mean        std   min   25%   50%   75%  \\\n",
       "vote                     1525.0   0.302951   0.459685   0.0   0.0   0.0   1.0   \n",
       "age                      1525.0  54.182295  15.711209  24.0  41.0  53.0  67.0   \n",
       "economic.cond.national   1525.0   3.245902   0.880969   1.0   3.0   3.0   4.0   \n",
       "economic.cond.household  1525.0   3.140328   0.929951   1.0   3.0   3.0   4.0   \n",
       "Blair                    1525.0   3.334426   1.174824   1.0   2.0   4.0   4.0   \n",
       "Hague                    1525.0   2.746885   1.230703   1.0   2.0   2.0   4.0   \n",
       "Europe                   1525.0   6.728525   3.297538   1.0   4.0   6.0  10.0   \n",
       "political.knowledge      1525.0   1.542295   1.083315   0.0   0.0   2.0   2.0   \n",
       "gender                   1525.0   0.467541   0.499109   0.0   0.0   0.0   1.0   \n",
       "\n",
       "                          max  \n",
       "vote                      1.0  \n",
       "age                      93.0  \n",
       "economic.cond.national    5.0  \n",
       "economic.cond.household   5.0  \n",
       "Blair                     5.0  \n",
       "Hague                     5.0  \n",
       "Europe                   11.0  \n",
       "political.knowledge       3.0  \n",
       "gender                    1.0  "
      ]
     },
     "execution_count": 12,
     "metadata": {},
     "output_type": "execute_result"
    }
   ],
   "source": [
    "df.describe().T"
   ]
  },
  {
   "cell_type": "markdown",
   "metadata": {},
   "source": [
    "📌 Visualizing Target Variable Distribution"
   ]
  },
  {
   "cell_type": "markdown",
   "metadata": {},
   "source": [
    "📌 Univariate Analysis"
   ]
  },
  {
   "cell_type": "code",
   "execution_count": 34,
   "metadata": {},
   "outputs": [
    {
     "data": {
      "image/png": "[encoded data removed]",
      "text/plain": [
       "<Figure size 640x480 with 1 Axes>"
      ]
     },
     "metadata": {},
     "output_type": "display_data"
    }
   ],
   "source": [
    "import seaborn as sns\n",
    "import matplotlib.pyplot as plt\n",
    "\n",
    "# Count plot for 'vote' column\n",
    "sns.countplot(x=df[\"vote\"])\n",
    "plt.title(\"Distribution of Voter Preference\")\n",
    "plt.show()\n"
   ]
  },
  {
   "cell_type": "code",
   "execution_count": 35,
   "metadata": {},
   "outputs": [
    {
     "data": {
      "image/png": "[encoded data removed]",
      "text/plain": [
       "<Figure size 640x480 with 1 Axes>"
      ]
     },
     "metadata": {},
     "output_type": "display_data"
    },
    {
     "data": {
      "image/png": "[encoded data removed]",
      "text/plain": [
       "<Figure size 1000x500 with 1 Axes>"
      ]
     },
     "metadata": {},
     "output_type": "display_data"
    }
   ],
   "source": [
    "import seaborn as sns\n",
    "import matplotlib.pyplot as plt\n",
    "\n",
    "# Distribution of target variable\n",
    "sns.countplot(x=df[\"vote\"])\n",
    "plt.title(\"Distribution of Voter Preference\")\n",
    "plt.show()\n",
    "\n",
    "# Boxplot to detect outliers\n",
    "plt.figure(figsize=(10, 5))\n",
    "sns.boxplot(data=df.drop(columns=[\"vote\"]))\n",
    "plt.title(\"Outlier Detection in Numerical Features\")\n",
    "plt.xticks(rotation=45)\n",
    "plt.show()\n"
   ]
  },
  {
   "cell_type": "markdown",
   "metadata": {},
   "source": [
    "Univariate Analysis:\n",
    "\n",
    "Age: Most voters are between 40-70 years old.\n",
    "Economic Conditions (National & Household): Mostly rated around 3-4 (neutral to positive).\n",
    "\n",
    "Blair & Hague (Leader Opinions): Blair is rated higher than Hague.\n",
    "\n",
    "Europe: Ratings vary widely, but most responses are 4-10.\n",
    "\n",
    "Political Knowledge: Majority have low to moderate knowledge (0-2)."
   ]
  },
  {
   "cell_type": "markdown",
   "metadata": {},
   "source": [
    "📌 Checking Correlations Between Features"
   ]
  },
  {
   "cell_type": "markdown",
   "metadata": {},
   "source": [
    "📌 Bivariate Analysis"
   ]
  },
  {
   "cell_type": "code",
   "execution_count": 36,
   "metadata": {},
   "outputs": [
    {
     "data": {
      "image/png": "[encoded data removed]",
      "text/plain": [
       "<Figure size 1000x600 with 2 Axes>"
      ]
     },
     "metadata": {},
     "output_type": "display_data"
    }
   ],
   "source": [
    "# Correlation heatmap\n",
    "plt.figure(figsize=(10,6))\n",
    "sns.heatmap(df.corr(), annot=True, cmap=\"coolwarm\")\n",
    "plt.title(\"Feature Correlation Heatmap\")\n",
    "plt.show()\n"
   ]
  },
  {
   "cell_type": "markdown",
   "metadata": {},
   "source": [
    "Bivariate Analysis (Impact on Vote Choice):\n",
    "\n",
    "Age & Voting: Slight differences between parties, younger voters show more variation.\n",
    "\n",
    "Economic Perception & Voting: Labour voters tend to rate the economy lower.\n",
    "\n",
    "Blair & Hague Ratings: Strong correlation with party choice.\n",
    "\n",
    "Europe: High ratings are more common for certain parties."
   ]
  },
  {
   "cell_type": "markdown",
   "metadata": {},
   "source": [
    " Step 4: Convert Categorical Variables"
   ]
  },
  {
   "cell_type": "markdown",
   "metadata": {},
   "source": [
    "Step 5: Split the Data into Training and Testing Sets"
   ]
  },
  {
   "cell_type": "code",
   "execution_count": 37,
   "metadata": {},
   "outputs": [
    {
     "name": "stdout",
     "output_type": "stream",
     "text": [
      "Training Data Shape: (1220, 8)\n",
      "Testing Data Shape: (305, 8)\n"
     ]
    }
   ],
   "source": [
    "from sklearn.model_selection import train_test_split\n",
    "\n",
    "# Define features (X) and target (y)\n",
    "X = df.drop(columns=[\"vote\"])  # Independent variables\n",
    "y = df[\"vote\"]  # Dependent variable (target)\n",
    "\n",
    "# Split into training (80%) and testing (20%) sets\n",
    "X_train, X_test, y_train, y_test = train_test_split(X, y, test_size=0.2, random_state=42)\n",
    "\n",
    "# Check the shape of the sets\n",
    "print(\"Training Data Shape:\", X_train.shape)\n",
    "print(\"Testing Data Shape:\", X_test.shape)\n"
   ]
  },
  {
   "cell_type": "markdown",
   "metadata": {},
   "source": [
    "Insights from Data Preparation\n",
    "Categorical variables converted to numeric (Vote & Gender).\n",
    "\n",
    "Class imbalance observed: ~70% of voters belong to one class (potential bias risk).\n",
    "\n",
    "Train-test split done (80% training, 20% testing)."
   ]
  },
  {
   "cell_type": "markdown",
   "metadata": {},
   "source": [
    "Step 6: Train Classification Models"
   ]
  },
  {
   "cell_type": "markdown",
   "metadata": {},
   "source": [
    " Train a Logistic Regression Model"
   ]
  },
  {
   "cell_type": "code",
   "execution_count": 38,
   "metadata": {},
   "outputs": [],
   "source": [
    "X_train.dropna(inplace=True)\n",
    "X_test.dropna(inplace=True)\n"
   ]
  },
  {
   "cell_type": "code",
   "execution_count": 39,
   "metadata": {},
   "outputs": [
    {
     "name": "stdout",
     "output_type": "stream",
     "text": [
      "Missing values in y: 0\n",
      "Dataset Shape After Removing NaN: (1525, 8) (1525,)\n",
      "Train Shape: (1220, 8) Test Shape: (305, 8)\n",
      "Logistic Regression Accuracy: 0.8327868852459016\n",
      "              precision    recall  f1-score   support\n",
      "\n",
      "           0       0.85      0.92      0.89       213\n",
      "           1       0.78      0.62      0.69        92\n",
      "\n",
      "    accuracy                           0.83       305\n",
      "   macro avg       0.81      0.77      0.79       305\n",
      "weighted avg       0.83      0.83      0.83       305\n",
      "\n"
     ]
    }
   ],
   "source": [
    "from sklearn.model_selection import train_test_split\n",
    "from sklearn.linear_model import LogisticRegression\n",
    "from sklearn.metrics import accuracy_score, classification_report\n",
    "\n",
    "# Check for missing values in the target variable\n",
    "print(\"Missing values in y:\", y.isnull().sum())\n",
    "\n",
    "# Drop rows where y is NaN\n",
    "X = X[~y.isnull()]\n",
    "y = y.dropna()\n",
    "\n",
    "# Ensure dataset is not empty\n",
    "print(\"Dataset Shape After Removing NaN:\", X.shape, y.shape)\n",
    "\n",
    "# Re-run train-test split\n",
    "X_train, X_test, y_train, y_test = train_test_split(X, y, test_size=0.2, random_state=42, stratify=y)\n",
    "\n",
    "print(\"Train Shape:\", X_train.shape, \"Test Shape:\", X_test.shape)\n",
    "\n",
    "# Check if train and test sets are empty\n",
    "if X_train.shape[0] == 0 or X_test.shape[0] == 0:\n",
    "    print(\"Error: Train or test set is empty after splitting!\")\n",
    "else:\n",
    "    # Fix missing values safely\n",
    "    X_train_filled = X_train.copy()\n",
    "    X_test_filled = X_test.copy()\n",
    "    X_train_filled.fillna(X_train.median(), inplace=True)\n",
    "    X_test_filled.fillna(X_test.median(), inplace=True)\n",
    "\n",
    "    # Train model\n",
    "    log_reg = LogisticRegression(max_iter=200)\n",
    "    log_reg.fit(X_train_filled, y_train)\n",
    "\n",
    "    # Make predictions\n",
    "    y_pred = log_reg.predict(X_test_filled)\n",
    "\n",
    "    # Evaluate model\n",
    "    print(\"Logistic Regression Accuracy:\", accuracy_score(y_test, y_pred))\n",
    "    print(classification_report(y_test, y_pred))\n"
   ]
  },
  {
   "cell_type": "markdown",
   "metadata": {},
   "source": [
    " Train a Random Forest Model"
   ]
  },
  {
   "cell_type": "code",
   "execution_count": 41,
   "metadata": {},
   "outputs": [
    {
     "name": "stdout",
     "output_type": "stream",
     "text": [
      "Random Forest Accuracy: 0.839344262295082\n",
      "              precision    recall  f1-score   support\n",
      "\n",
      "           0       0.86      0.92      0.89       213\n",
      "           1       0.79      0.64      0.71        92\n",
      "\n",
      "    accuracy                           0.84       305\n",
      "   macro avg       0.82      0.78      0.80       305\n",
      "weighted avg       0.84      0.84      0.83       305\n",
      "\n"
     ]
    }
   ],
   "source": [
    "from sklearn.ensemble import RandomForestClassifier\n",
    "\n",
    "# Initialize and train the model\n",
    "rf = RandomForestClassifier(n_estimators=100, random_state=42)\n",
    "rf.fit(X_train, y_train)\n",
    "\n",
    "# Make predictions\n",
    "y_pred_rf = rf.predict(X_test)\n",
    "\n",
    "# Evaluate the model\n",
    "print(\"Random Forest Accuracy:\", accuracy_score(y_test, y_pred_rf))\n",
    "print(classification_report(y_test, y_pred_rf))\n"
   ]
  },
  {
   "cell_type": "markdown",
   "metadata": {},
   "source": [
    "Train an XGBoost Model"
   ]
  },
  {
   "cell_type": "code",
   "execution_count": 42,
   "metadata": {},
   "outputs": [
    {
     "name": "stdout",
     "output_type": "stream",
     "text": [
      "XGBoost Accuracy: 0.8327868852459016\n",
      "              precision    recall  f1-score   support\n",
      "\n",
      "           0       0.86      0.91      0.88       213\n",
      "           1       0.76      0.65      0.70        92\n",
      "\n",
      "    accuracy                           0.83       305\n",
      "   macro avg       0.81      0.78      0.79       305\n",
      "weighted avg       0.83      0.83      0.83       305\n",
      "\n"
     ]
    },
    {
     "name": "stderr",
     "output_type": "stream",
     "text": [
      "c:\\Users\\rk871\\OneDrive\\Desktop\\Data-Code\\venv\\Lib\\site-packages\\xgboost\\core.py:158: UserWarning: [13:25:02] WARNING: C:\\buildkite-agent\\builds\\buildkite-windows-cpu-autoscaling-group-i-08cbc0333d8d4aae1-1\\xgboost\\xgboost-ci-windows\\src\\learner.cc:740: \n",
      "Parameters: { \"use_label_encoder\" } are not used.\n",
      "\n",
      "  warnings.warn(smsg, UserWarning)\n"
     ]
    }
   ],
   "source": [
    "from xgboost import XGBClassifier\n",
    "\n",
    "# Initialize and train the model\n",
    "xgb = XGBClassifier(use_label_encoder=False, eval_metric=\"logloss\")\n",
    "xgb.fit(X_train, y_train)\n",
    "\n",
    "# Make predictions\n",
    "y_pred_xgb = xgb.predict(X_test)\n",
    "\n",
    "# Evaluate the model\n",
    "print(\"XGBoost Accuracy:\", accuracy_score(y_test, y_pred_xgb))\n",
    "print(classification_report(y_test, y_pred_xgb))\n"
   ]
  },
  {
   "cell_type": "markdown",
   "metadata": {},
   "source": [
    "Step 7: Compare Models and Select the Best One"
   ]
  },
  {
   "cell_type": "code",
   "execution_count": 43,
   "metadata": {},
   "outputs": [
    {
     "name": "stdout",
     "output_type": "stream",
     "text": [
      "Logistic Regression: 0.8328\n",
      "Random Forest: 0.8393\n",
      "XGBoost: 0.8328\n"
     ]
    }
   ],
   "source": [
    "# Store model accuracies\n",
    "model_accuracies = {\n",
    "    \"Logistic Regression\": accuracy_score(y_test, y_pred),\n",
    "    \"Random Forest\": accuracy_score(y_test, y_pred_rf),\n",
    "    \"XGBoost\": accuracy_score(y_test, y_pred_xgb),\n",
    "}\n",
    "\n",
    "# Print model comparison\n",
    "for model, accuracy in model_accuracies.items():\n",
    "    print(f\"{model}: {accuracy:.4f}\")\n"
   ]
  },
  {
   "cell_type": "markdown",
   "metadata": {},
   "source": [
    "Insights from Model Training\n",
    "\n",
    "All models trained successfully.\n",
    "Logistic Regression warning: Needs more iterations (can be fixed by scaling data).\n",
    "\n",
    "XGBoost required a specific evaluation metric (logloss).\n"
   ]
  },
  {
   "cell_type": "markdown",
   "metadata": {},
   "source": [
    " Step 8: Interpret Insights & Write a Business Report"
   ]
  },
  {
   "cell_type": "code",
   "execution_count": 44,
   "metadata": {},
   "outputs": [
    {
     "data": {
      "image/png": "[encoded data removed]",
      "text/plain": [
       "<Figure size 1000x600 with 1 Axes>"
      ]
     },
     "metadata": {},
     "output_type": "display_data"
    }
   ],
   "source": [
    "importances = rf.feature_importances_\n",
    "feature_importance = pd.DataFrame({'Feature': X.columns, 'Importance': importances})\n",
    "feature_importance = feature_importance.sort_values(by='Importance', ascending=False)\n",
    "\n",
    "# Plot Feature Importance\n",
    "plt.figure(figsize=(10,6))\n",
    "sns.barplot(x=feature_importance['Importance'], y=feature_importance['Feature'])\n",
    "plt.title(\"Feature Importance (Random Forest)\")\n",
    "plt.show()\n"
   ]
  },
  {
   "cell_type": "markdown",
   "metadata": {},
   "source": [
    "🔍 Key Insights from Feature Importance (Random Forest).\n",
    "\n",
    " 📌 Age is the Most Important Factor.\n",
    "Age significantly impacts the target variable (e.g., voting behavior or political preference).\n",
    "Political campaigns should focus on age-specific messaging.\n",
    "\n",
    "📌 European Union & Political Leaders Matter.\n",
    "Europe is the second most important feature, influencing predictions significantly.\n",
    "Hague & Blair (political figures) play a key role, indicating leadership perception affects voter preferences.\n",
    "\n",
    "📌 Economic Conditions Have a Moderate Impact.\n",
    "Both national and household-level economic conditions influence the model, though not as dominantly.\n",
    "While the economy matters, political and demographic factors are more impactful.\n",
    "\n",
    "📌 Political Knowledge: A Mid-Level Factor.\n",
    "Being politically informed affects voting behavior but is not the strongest predictor.\n",
    "Educating voters could still be a strategic approach.\n",
    "\n",
    "📌 Gender Has the Least Influence.\n",
    "Gender differences in voting preferences are minimal in this dataset.\n",
    "\n",
    "🎯 Strategic Actions Based on These Insights.\n",
    "  Target Age Groups – Develop political campaigns tailored for different age demographics.\n",
    "  Emphasize European Policies – Politicians should clearly define their stance on European affairs.\n",
    "  Leverage Leadership Perception – Personal branding and policy positioning for key figures (Blair, Hague) matter.\n",
    "  Consider Economic Messaging – While not the top factor, economic policies should still be communicated effectively.\n",
    "\n",
    "🚀 Key Takeaway: Political strategy should prioritize age, European policies, and leadership perception while maintaining a balanced economic message."
   ]
  },
  {
   "cell_type": "markdown",
   "metadata": {},
   "source": [
    " Step 9: Save and Export the Best Model"
   ]
  },
  {
   "cell_type": "code",
   "execution_count": 45,
   "metadata": {},
   "outputs": [
    {
     "name": "stdout",
     "output_type": "stream",
     "text": [
      "[1 0 1 0 0 0 1 0 1 0 0 0 1 0 0 0 0 0 1 0 1 0 1 0 0 1 0 0 0 0 0 0 0 0 0 1 1\n",
      " 0 1 0 0 1 0 1 0 0 0 0 0 0 0 0 0 0 1 1 0 1 0 0 0 0 0 1 0 1 0 0 0 1 1 1 0 0\n",
      " 0 0 0 0 0 0 0 0 0 0 0 0 0 1 0 0 0 0 0 1 0 0 0 1 1 1 1 0 1 0 0 1 1 0 1 0 0\n",
      " 0 0 0 0 0 0 0 1 1 0 0 0 0 1 0 0 1 0 0 0 0 0 0 0 0 0 0 0 0 1 0 0 1 0 0 0 0\n",
      " 0 0 0 0 0 0 0 0 0 0 0 0 0 0 0 0 0 1 1 0 0 0 1 0 0 0 1 0 0 1 0 0 1 0 0 0 0\n",
      " 0 0 0 0 1 0 1 0 0 1 1 0 0 0 0 0 0 0 0 0 0 0 0 0 0 0 0 1 0 0 1 1 0 0 0 0 1\n",
      " 0 0 0 0 0 0 1 1 1 1 0 0 1 1 0 0 0 0 0 1 1 0 1 0 0 1 0 0 0 1 0 1 0 1 0 0 0\n",
      " 0 0 0 1 0 0 0 1 1 0 0 1 0 0 1 0 0 0 0 0 1 0 0 1 0 0 0 0 1 0 0 0 1 0 1 0 0\n",
      " 0 0 0 0 0 0 0 0 0]\n"
     ]
    }
   ],
   "source": [
    "import joblib\n",
    "\n",
    "# Save the trained Random Forest model\n",
    "joblib.dump(rf, \"voting_prediction_model.pkl\")\n",
    "\n",
    "# Load the saved model\n",
    "loaded_model = joblib.load(\"voting_prediction_model.pkl\")\n",
    "\n",
    "# Make new predictions\n",
    "new_predictions = loaded_model.predict(X_test)\n",
    "\n",
    "# Print the predictions\n",
    "print(new_predictions)\n"
   ]
  },
  {
   "cell_type": "code",
   "execution_count": null,
   "metadata": {},
   "outputs": [],
   "source": []
  },
  {
   "cell_type": "code",
   "execution_count": null,
   "metadata": {},
   "outputs": [],
   "source": []
  },
  {
   "cell_type": "code",
   "execution_count": null,
   "metadata": {},
   "outputs": [],
   "source": []
  }
 ],
 "metadata": {
  "kernelspec": {
   "display_name": "venv",
   "language": "python",
   "name": "python3"
  },
  "language_info": {
   "codemirror_mode": {
    "name": "ipython",
    "version": 3
   },
   "file_extension": ".py",
   "mimetype": "text/x-python",
   "name": "python",
   "nbconvert_exporter": "python",
   "pygments_lexer": "ipython3",
   "version": "3.12.7"
  }
 },
 "nbformat": 4,
 "nbformat_minor": 2
}
