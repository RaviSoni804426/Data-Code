{
  "nbformat": 4,
  "nbformat_minor": 0,
  "metadata": {
    "colab": {
      "provenance": [],
      "include_colab_link": true
    },
    "kernelspec": {
      "name": "python3",
      "display_name": "Python 3"
    },
    "language_info": {
      "name": "python"
    }
  },
  "cells": [
    {
      "cell_type": "markdown",
      "metadata": {
        "id": "view-in-github",
        "colab_type": "text"
      },
      "source": [
        "<a href=\"https://colab.research.google.com/github/RaviSoni804426/Data-Code/blob/main/MLP_Code.ipynb\" target=\"_parent\"><img src=\"https://colab.research.google.com/assets/colab-badge.svg\" alt=\"Open In Colab\"/></a>"
      ]
    },
    {
      "cell_type": "code",
      "source": [
        "import numpy as np\n",
        "import pandas as pd\n",
        "from sklearn.model_selection import train_test_split\n",
        "from sklearn.pipeline import Pipeline\n",
        "from sklearn.impute import SimpleImputer\n",
        "from sklearn.preprocessing import StandardScaler\n",
        "from sklearn.ensemble import RandomForestRegressor, ExtraTreesRegressor, VotingRegressor"
      ],
      "metadata": {
        "id": "0IIwR_WpMQz8"
      },
      "execution_count": null,
      "outputs": []
    },
    {
      "cell_type": "code",
      "execution_count": null,
      "metadata": {
        "id": "G7T1Q6tWLm3X"
      },
      "outputs": [],
      "source": [
        "train_data= pd.read_csv(\"train_data.csv\")\n",
        "test_data= pd.read_csv(\"test_data.csv\")\n",
        "\n",
        "print('Shape of Train dataset: ', train_data.shape)\n",
        "print('Shape of Test dataset: ', test_data.shape)"
      ]
    },
    {
      "cell_type": "code",
      "source": [
        "X= train_data.drop(columns=['purchaseValue'])\n",
        "y= train_data['purchaseValue']"
      ],
      "metadata": {
        "id": "ib5g4uExL7FI"
      },
      "execution_count": null,
      "outputs": []
    },
    {
      "cell_type": "code",
      "source": [
        "def feature_engineer(data):\n",
        "    data['date'] = pd.to_datetime(data['date'], format='%Y%m%d')\n",
        "    data['month'] = data['date'].dt.month\n",
        "    data['day'] =data['date'].dt.day\n",
        "    data['day_of_week']=data['date'].dt.dayofweek\n",
        "    data['weekday']= data['date'].dt.weekday\n",
        "    data['week_of_year'] = data['date'].dt.isocalendar().week.astype(int)\n",
        "    data= data.drop(columns=['date'])\n",
        "\n",
        "    data['sessionStart'] = pd.to_datetime(data['sessionStart'], unit='s')\n",
        "    data['hour'] =data['sessionStart'].dt.hour\n",
        "    data = data.drop(columns=['sessionStart'])\n",
        "\n",
        "    return data"
      ],
      "metadata": {
        "id": "n1rPAhqmL9cP"
      },
      "execution_count": null,
      "outputs": []
    },
    {
      "cell_type": "code",
      "source": [
        "X = feature_engineer(X)"
      ],
      "metadata": {
        "id": "3pdW8tSYL_S0"
      },
      "execution_count": null,
      "outputs": []
    },
    {
      "cell_type": "code",
      "source": [
        "final_features = [\n",
        "    'sessionNumber',\n",
        "    'trafficSource.adwordsClickInfo.page',\n",
        "    'pageViews',\n",
        "    'locationZone', 'totals.bounces',\n",
        "    'new_visits',\n",
        "    'month', 'day_of_week',\n",
        "    'hour', 'day',]\n",
        "\n",
        "X_final = X[final_features]"
      ],
      "metadata": {
        "id": "ykwggti6MBD3"
      },
      "execution_count": null,
      "outputs": []
    },
    {
      "cell_type": "code",
      "source": [
        "pipeline = Pipeline(steps=[\n",
        "    ('imputer', SimpleImputer(strategy='median')),\n",
        "    ('scaler', StandardScaler()),\n",
        "    ('etr', ExtraTreesRegressor(random_state=39, n_jobs=-1))])"
      ],
      "metadata": {
        "id": "K7ANYEnLMEGL"
      },
      "execution_count": null,
      "outputs": []
    },
    {
      "cell_type": "code",
      "source": [
        "X_train, X_val, y_train, y_val = train_test_split(X_final, y, test_size=0.2, random_state=39)"
      ],
      "metadata": {
        "id": "wO5xWdw8MHfG"
      },
      "execution_count": null,
      "outputs": []
    },
    {
      "cell_type": "code",
      "source": [
        "pipeline.fit(X_train, y_train)\n",
        "print(\"Train r2 score:\", pipeline.score(X_train, y_train))\n",
        "print(\"Validation score:\", pipeline.score(X_val, y_val))"
      ],
      "metadata": {
        "id": "07_vUscSMJd6"
      },
      "execution_count": null,
      "outputs": []
    }
  ]
}